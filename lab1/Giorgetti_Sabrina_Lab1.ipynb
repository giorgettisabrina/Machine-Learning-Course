{
 "cells": [
  {
   "cell_type": "markdown",
   "metadata": {},
   "source": [
    " # Machine Learning LAB 1 (course 2020/21, P. Zanuttigh, M. Toldo) \n",
    "\n",
    "The notebook contains some simple tasks to be performed about classification and regression. Complete all the required code sections and answer to all the questions."
   ]
  },
  {
   "cell_type": "markdown",
   "metadata": {},
   "source": [
    "## 1) Classification of NBA players role\n",
    "\n",
    "## IMPORTANT: make sure to rerun all the code from the beginning to obtain the results for the final version of your notebook, since this is the way we will do it before evaluating your notebook!"
   ]
  },
  {
   "cell_type": "markdown",
   "metadata": {},
   "source": [
    "### Place your name and ID number. Also recall to save the file as Surname_Name_LAB1.ipynb\n",
    "\n",
    "Student name: Giorgetti Sabrina <br>\n",
    "ID Number: 2013375"
   ]
  },
  {
   "cell_type": "markdown",
   "metadata": {},
   "source": [
    "### Dataset description\n",
    "\n",
    "We will be working with a dataset of NBA basketball players data (you can get from https://www.kaggle.com/jacobbaruch/nba-player-of-the-week the full dataset).\n",
    "\n",
    "The provided data is a subset of the Kaggle dataset containing the players that have the role of Center and of Point Guard. For each player the dataset contains 3 features, the height, the weight and the age.\n",
    "\n",
    "From Wikipedia (if you are not a basketball fan!!):\n",
    "\n",
    "The Center (C), also known as the five, or the big man, is one of the five positions in a regular basketball game. The center is normally the tallest player on the team, and often has a great deal of strength and body mass as well. In the NBA, the center is usually 6' 10\" (2.08 m) or taller and usually weighs 240 lbs (109 kg) or more. \n",
    "\n",
    "Point Guards (PG, a.k.a. as \"play maker\") are expected to run the team's offense by controlling the ball and making sure that it gets to the right players at the right time. In the NBA, point guards are usually about 6' 3\" (1.93 m) or shorter, and average about 6' 2\" (1.88 m). Having above-average size (height, muscle) is considered advantageous, although size is secondary to situational awareness, speed, quickness, and ball handling skills. Shorter players tend to be better dribblers since they are closer to the floor, and thus have better control of the ball while dribbling. \n",
    "\n",
    "\n",
    "As it is clear from the description, the height and weight of the player are good hints to predict their role and in this lab we will exploit this features to estimate the role.\n",
    "\n",
    "\n",
    "### Three features are considered for this dataset:\n",
    "\n",
    "\n",
    "1) Height in cm\n",
    "\n",
    "2) Weight in kg\n",
    "\n",
    "3) Age in years"
   ]
  },
  {
   "cell_type": "markdown",
   "metadata": {},
   "source": [
    "We first import all the packages that are needed."
   ]
  },
  {
   "cell_type": "code",
   "execution_count": 1,
   "metadata": {},
   "outputs": [],
   "source": [
    "%matplotlib inline\n",
    "import matplotlib.pyplot as plt\n",
    "import csv\n",
    "\n",
    "import numpy as np\n",
    "import scipy as sp\n",
    "import sklearn as sl\n",
    "from scipy import stats\n",
    "from sklearn import datasets\n",
    "from sklearn import linear_model"
   ]
  },
  {
   "cell_type": "markdown",
   "metadata": {},
   "source": [
    "# Perceptron\n",
    "Firstly we will implement the perceptron algorithm and use it to learn a halfspace."
   ]
  },
  {
   "cell_type": "markdown",
   "metadata": {},
   "source": [
    "**TO DO** Set the random seed (you can use your ID (matricola) or any other number!)."
   ]
  },
  {
   "cell_type": "code",
   "execution_count": 2,
   "metadata": {},
   "outputs": [],
   "source": [
    "IDnumber = 2013375 #YOUR_ID , try also to change the seed to see the impact of random initialization on the results\n",
    "np.random.seed(IDnumber)"
   ]
  },
  {
   "cell_type": "markdown",
   "metadata": {},
   "source": [
    "Load the dataset and then split in training set and test set (the training set is typically larger, you can use a 70% tranining 30% test split) after applying a random permutation to the datset."
   ]
  },
  {
   "cell_type": "markdown",
   "metadata": {},
   "source": [
    "A) Load dataset and perform permutation"
   ]
  },
  {
   "cell_type": "code",
   "execution_count": 3,
   "metadata": {},
   "outputs": [
    {
     "name": "stdout",
     "output_type": "stream",
     "text": [
      "['Position', 'Height cm', 'kg', 'Age']\n",
      "260\n"
     ]
    }
   ],
   "source": [
    "#load the dataset\n",
    "filename = 'data/NBA.csv'\n",
    "NBA = csv.reader(open(filename, newline=''), delimiter=',')\n",
    "\n",
    "header = next(NBA) #skip first line\n",
    "print(header)\n",
    "\n",
    "dataset = list(NBA)\n",
    "for i in range(len(dataset)):\n",
    "    dataset[i] = [int(x) for x in dataset[i]]\n",
    "\n",
    "dataset = np.asarray(dataset)\n",
    "\n",
    "X = dataset[:,1:4] #columns 1,2,3 contain the features\n",
    "Y = dataset[:,0]  # column 0: labels\n",
    "\n",
    "Y = Y*2-1  # set labels to -1, 1 as required by perceptron implementation\n",
    "\n",
    "m = dataset.shape[0]\n",
    "print(m)\n",
    "permutation = np.random.permutation(m) # random permurtation\n",
    "\n",
    "X = X[permutation]\n",
    "Y = Y[permutation]\n",
    "\n",
    "\n",
    "\n"
   ]
  },
  {
   "cell_type": "markdown",
   "metadata": {},
   "source": [
    "We are going to classify class \"1\" (Center) vs class \"-1\" (Point Guard)"
   ]
  },
  {
   "cell_type": "markdown",
   "metadata": {},
   "source": [
    "B) **TO DO** Divide the data into training set and test set (70% of the data in the first set, 30% in the second one)"
   ]
  },
  {
   "cell_type": "code",
   "execution_count": 4,
   "metadata": {},
   "outputs": [
    {
     "name": "stdout",
     "output_type": "stream",
     "text": [
      "Y_training:  [ 1  1  1  1  1  1  1  1  1 -1 -1  1  1  1  1 -1  1  1  1  1 -1  1 -1 -1\n",
      " -1 -1 -1  1  1  1 -1  1 -1  1 -1  1  1  1  1 -1  1  1  1 -1 -1  1  1  1\n",
      " -1  1 -1 -1 -1  1 -1 -1 -1  1 -1 -1 -1 -1  1 -1 -1  1  1  1  1  1  1  1\n",
      "  1  1  1  1  1  1 -1 -1 -1  1  1 -1  1 -1 -1  1  1 -1 -1 -1 -1 -1  1  1\n",
      "  1  1 -1 -1 -1  1 -1 -1  1  1  1 -1  1  1 -1  1  1 -1  1 -1 -1  1 -1  1\n",
      "  1 -1 -1  1  1  1  1  1  1  1 -1 -1  1  1 -1 -1 -1 -1 -1 -1 -1  1  1 -1\n",
      "  1  1  1  1 -1  1 -1 -1  1  1  1 -1  1 -1 -1  1  1 -1  1 -1 -1  1 -1 -1\n",
      "  1  1  1 -1  1 -1 -1  1  1 -1 -1  1 -1  1]\n",
      "m_test:  78\n",
      "Shape of training set: (182, 3)\n",
      "Shape of test set: (78, 3)\n",
      "Shape of label training set: (182,)\n",
      "Shape of label test set: (78,)\n"
     ]
    }
   ],
   "source": [
    "#Divide in training and test: make sure that your training set (labels)\n",
    "#contains at least 10 elements from class 1 and at least 10 elements\n",
    "#from class -1! If it does not, modify the code so to apply more random\n",
    "#permutations (or the same permutation multiple times) until this happens.\n",
    "#IMPORTANT: do not change the random seed.\n",
    "\n",
    "##m_training needs to be the number of samples in the training set\n",
    "m_training = int(0.7*len(X)) #PLACE YOUR CODE\n",
    "#print(\"m_training: \", m_training) \n",
    "      \n",
    "##m_test needs to be the number of samples in the test set\n",
    "m_test = int(0.3*len(X)) # PLACE YOUR CODE\n",
    "#print(\"m_test: \", m_test)\n",
    "\n",
    "##X_training = instances for training \n",
    "X_training = np.array([X[i] for i in range(0,m_training)]) #PLACE YOUR CODE\n",
    "#print(\"Len X\",len(X_training))\n",
    "#print(\"X training\",X_training)\n",
    "\n",
    "##Y_training = labels for the training set\n",
    "Y_training =np.array([Y[i] for i in range(0, m_training)]) #PLACE YOUR CODE\n",
    "#print(\"Len Y\",len(Y_training))\n",
    "\n",
    "#check for at leat 10 element = -1 or 1\n",
    "count = 0\n",
    "count_1 = 0\n",
    "\n",
    "while count < 10 or count_1 <10:\n",
    "    for i,y in enumerate(Y_training):\n",
    "        if y == 1:\n",
    "            count += 1\n",
    "        if y== -1:\n",
    "            count_1 += 1\n",
    "    if count < 10 or count_1 < 10: \n",
    "            permutation_2 = np.random.permutation(m_training) \n",
    "            X = X[permutation_2]\n",
    "            Y = Y[permutation_2]\n",
    "            X_training = np.array([X[i] for i in range(0,m_training)]) \n",
    "            Y_training =np.array([Y[i] for i in range(0, m_training)]) \n",
    "\n",
    "\n",
    "#print(count)\n",
    "#print(count_1)\n",
    "\n",
    "##X_test = instances for test set\n",
    "X_test = np.array([X[i] for i in range(m_training,len(X))])  # PLACE YOUR CODE\n",
    "#print(\"X_test: \", X_test) \n",
    "#print(\"Len X_test\",len(X_test))\n",
    "\n",
    "##Y_test = labels for the test set\n",
    "Y_test = np.array([Y[i] for i in range(m_training,len(Y))])  # PLACE YOUR CODE\n",
    "#print(\"Y_test:\" ,Y_test)\n",
    "#print(\"Len Y_test\",len(Y_test))\n",
    "\n",
    "print(\"Y_training: \", Y_training) #to make sure that Y_training contains both 1 and -1\n",
    "print(\"m_test: \", m_test)\n",
    "\n",
    "print(\"Shape of training set: \" + str(X_training.shape))\n",
    "print(\"Shape of test set: \" + str(X_test.shape))\n",
    "print(\"Shape of label training set: \" + str(Y_training.shape))\n",
    "print(\"Shape of label test set: \" + str(Y_test.shape))\n",
    "\n",
    "\n",
    "#reshape\n",
    "#X_test = np.reshape(X_test, (-1,1))\n",
    "#print(X_test2.shape)\n",
    "\n"
   ]
  },
  {
   "cell_type": "markdown",
   "metadata": {},
   "source": [
    "We add a 1 in front of each sample so that we can use a vector in homogeneous coordinates to describe all the coefficients of the model. This can be done with the function $hstack$ in $numpy$."
   ]
  },
  {
   "cell_type": "code",
   "execution_count": 5,
   "metadata": {},
   "outputs": [
    {
     "name": "stdout",
     "output_type": "stream",
     "text": [
      "Shape of training set with 1 to each sample: (182, 4)\n",
      "Shape of test set with 1 to each sample: (78, 4)\n"
     ]
    }
   ],
   "source": [
    "#add a 1 to each sample (homogeneous coordinates)\n",
    "X_training = np.hstack((np.ones((m_training,1)),X_training))\n",
    "#print(X_training)\n",
    "X_test = np.hstack((np.ones((m_test,1)),X_test))\n",
    "\n",
    "print(\"Shape of training set with 1 to each sample: \" + str(X_training.shape))\n",
    "print(\"Shape of test set with 1 to each sample: \" + str(X_test.shape))\n",
    "\n",
    "\n",
    "#print(X_training)\n",
    "#print(\"\\n\")\n",
    "#print(X_test)\n",
    "\n"
   ]
  },
  {
   "cell_type": "markdown",
   "metadata": {},
   "source": [
    "**TO DO** Now complete the function *perceptron*. Since the perceptron does not terminate if the data is not linearly separable, your implementation should return the desired output (see below) if it reached the termination condition seen in class or if a maximum number of iterations have already been run, where one iteration corresponds to one update of the perceptron weights. In case the termination is reached because the maximum number of iterations have been completed, the implementation should return **the best model** seen up to now.\n",
    "\n",
    "The input parameters to pass are:\n",
    "- $X$: the matrix of input features, one row for each sample\n",
    "- $Y$: the vector of labels for the input features matrix X\n",
    "- $max\\_num\\_iterations$: the maximum number of iterations for running the perceptron\n",
    "\n",
    "The output values are:\n",
    "- $best\\_w$: the vector with the coefficients of the best model\n",
    "- $best\\_error$: the *fraction* of misclassified samples for the best model"
   ]
  },
  {
   "cell_type": "code",
   "execution_count": 6,
   "metadata": {},
   "outputs": [],
   "source": [
    "# A template is provided, but feel free to build a different implementation\n",
    "\n",
    "\n",
    "def perceptron_update(current_w, x, y):\n",
    "    # Place in this function the update rule of the perceptron algorithm \n",
    "    new_w = current_w\n",
    "    if y*np.dot(current_w,x) <= 0:      #PLACE YOUR CODE\n",
    "        new_w = current_w + (y * x)        #PLACE YOUR CODE\n",
    "    return new_w  \n",
    "    \n",
    "    \n",
    "def perceptron(X, Y, max_num_iterations):\n",
    "    # Place in this function the main section of the perceptron algorithm\n",
    "    #init the algorith with w=0, use a best_w variable to keep track of the best solution\n",
    "   \n",
    "    n_feature=X.shape[1]\n",
    "    \n",
    "    curr_w = np.zeros(n_feature)# PLACE YOUR CODE\n",
    "    best_w = np.zeros(n_feature) # PLACE YOUR CODE\n",
    "    num_samples = X.shape[0] # PLACE YOUR CODE\n",
    "    best_error = -1 # PLACE YOUR CODE\n",
    "    \n",
    "    index_misclassified = 0 #will be ovewritten\n",
    "    num_misclassified = 0 #will be ovewritten\n",
    "    \n",
    "    \n",
    "    #main loop continue until all samples correctly classified or max # iterations reached\n",
    "    num_iter = 1\n",
    "\n",
    "    while ((index_misclassified != -1) and (num_iter < max_num_iterations)):\n",
    "\n",
    "        index_misclassified = -1\n",
    "        num_misclassified = 0\n",
    "        \n",
    "        # avoid working always on the same sample, you can use a random permutation or randomize the choice of misclassified\n",
    "        \n",
    "        # PLACE YOUR CODE TO RANDOMIZE\n",
    "        perm = np.random.permutation(num_samples) # random permurtation\n",
    "\n",
    "        X = X[perm]\n",
    "        Y = Y[perm]\n",
    "        \n",
    "        \n",
    "        for i in range(num_samples):\n",
    "            #PLACE YOUR CODE\n",
    "            #check if the i-th randomly selected sample is misclassified\n",
    "            if Y[i]*np.dot(curr_w,X[i]) <= 0:\n",
    "            # store the number of randomly classified samples and the index of at least one of them\n",
    "                num_misclassified += 1\n",
    "                index_misclassified=i ####### ultimo           \n",
    "\n",
    "        #update  error count, keep track of best solution\n",
    "        # PLACE YOUR CODE \n",
    "        if num_misclassified <= best_error or best_error==-1:\n",
    "            best_error=num_misclassified\n",
    "            best_w=curr_w\n",
    "            \n",
    "    \n",
    "        num_iter += 1\n",
    "    \n",
    "        #call update function using a misclassifed sample\n",
    "        curr_w = perceptron_update(curr_w,X[index_misclassified],Y[index_misclassified])\n",
    "        \n",
    "    \n",
    "    #best_error = # PLACE YOUR CODE\n",
    "    \n",
    "\n",
    "    \n",
    "    return best_w, best_error"
   ]
  },
  {
   "cell_type": "markdown",
   "metadata": {},
   "source": [
    "Now we use the implementation above of the perceptron to learn a model from the training data using 100 iterations and print the error of the best model we have found."
   ]
  },
  {
   "cell_type": "code",
   "execution_count": 7,
   "metadata": {},
   "outputs": [
    {
     "name": "stdout",
     "output_type": "stream",
     "text": [
      "Training Error of perpceptron (100 iterations): 23\n",
      "Fraction Training Error of perpceptron (100 iterations): 0.12637362637362637\n"
     ]
    }
   ],
   "source": [
    "#now run the perceptron for 100 iterations\n",
    "w_found, error = perceptron(X_training,Y_training, 100)\n",
    "print(\"Training Error of perpceptron (100 iterations): \" + str(error))\n",
    "print(\"Fraction Training Error of perpceptron (100 iterations): \" + str(error/m_training))"
   ]
  },
  {
   "cell_type": "markdown",
   "metadata": {},
   "source": [
    "**TO DO** use the best model $w\\_found$ to predict the labels for the test dataset and print the fraction of misclassified samples in the test set (the test error that is an estimate of the true loss)."
   ]
  },
  {
   "cell_type": "code",
   "execution_count": 8,
   "metadata": {},
   "outputs": [
    {
     "name": "stdout",
     "output_type": "stream",
     "text": [
      "Test Error of perpceptron (100 iterations): 0.15384615384615385\n",
      "Num_errors, Test Error of perpceptron (100 iterations): 12\n"
     ]
    }
   ],
   "source": [
    "#now use the w_found to make predictions on test dataset\n",
    "\n",
    "num_errors = 0\n",
    "\n",
    "# PLACE YOUR CODE to compute the number of errors\n",
    "\n",
    "for i in range(m_test):\n",
    "    if Y_test[i]*np.dot(w_found,X_test[i]) <= 0:\n",
    "        num_errors += 1\n",
    "        \n",
    "true_loss_estimate = num_errors/m_test  # error rate on the test set\n",
    "#NOTE: you can avoid using num_errors if you prefer, as long as true_loss_estimate is correct\n",
    "print(\"Test Error of perpceptron (100 iterations): \" + str(true_loss_estimate))\n",
    "print(\"Num_errors, Test Error of perpceptron (100 iterations): \" + str(num_errors))"
   ]
  },
  {
   "cell_type": "markdown",
   "metadata": {},
   "source": [
    "**TO DO** **[Answer the following]** What about the difference betweeen the training error and the test error  in terms of fraction of misclassified samples)? Explain what you observe. [Write the answer in this cell]\n",
    "\n",
    "**ANSWER QUESTION 1**\n",
    "\n",
    "In terms of fraction of misclassified samples, running the algorithm, it's obtained a 12.6% for the  training error and a 15% for the test error. The test error is higher than the training error, as expected\n",
    "\n",
    "\n",
    "\n",
    "The training error is calculated by running the trained model on a dataset that has been already used to train the model, while the test error is instead calculated by running the trained model on a disjoint dataset from the one used to train the model. Therefore, as expected the test error is higher that the training error which tents to yield an optimistic result. \n",
    "\n",
    "Reference values: \n",
    "\n",
    "Training Error of perpceptron (100 iterations): 23 <br>\n",
    "Fraction Training Error of perpceptron (100 iterations): 0.12637362637362637\n",
    "\n",
    "Test Error of perpceptron (100 iterations): 0.15384615384615385 <br>\n",
    "Num_errors, Test Error of perpceptron (100 iterations): 12\n"
   ]
  },
  {
   "cell_type": "markdown",
   "metadata": {},
   "source": [
    "**TO DO** Copy the code from the last 2 cells above in the cell below and repeat the training with 3000 iterations. Then print the error in the training set and the estimate of the true loss obtained from the test set."
   ]
  },
  {
   "cell_type": "code",
   "execution_count": 9,
   "metadata": {
    "scrolled": true
   },
   "outputs": [
    {
     "name": "stdout",
     "output_type": "stream",
     "text": [
      "Fraction Training Error of perpceptron (3000 iterations): 0.07142857142857142\n",
      "Training Error of perpceptron (3000 iterations): 13\n",
      "Num Test Error of perpceptron (3000 iterations): 7\n",
      "Test Error of perpceptron (3000 iterations): 0.08974358974358974\n"
     ]
    }
   ],
   "source": [
    "#now run the perceptron for 3000 iterations here!\n",
    "\n",
    "# PLACE YOUR CODE\n",
    "w_found, error = perceptron(X_training,Y_training,3000)\n",
    "print(\"Fraction Training Error of perpceptron (3000 iterations): \" + str(error/m_training))\n",
    "print(\"Training Error of perpceptron (3000 iterations): \" + str(error))\n",
    "\n",
    "# PLACE YOUR CODE\n",
    "num_errors = 0\n",
    "\n",
    "for i in range(m_test):\n",
    "    if Y_test[i]*np.dot(w_found,X_test[i]) <= 0:\n",
    "        num_errors += 1\n",
    "        \n",
    "true_loss_estimate = num_errors/m_test  # error rate on the test set\n",
    "print(\"Num Test Error of perpceptron (3000 iterations): \" + str(num_errors))\n",
    "print(\"Test Error of perpceptron (3000 iterations): \" + str(true_loss_estimate))"
   ]
  },
  {
   "cell_type": "markdown",
   "metadata": {},
   "source": [
    "**TO DO** [Answer the following] What about the difference betweeen the training error and the test error  in terms of fraction of misclassified samples) when running for a larger number of iterations ? Explain what you observe and compare with the previous case. [Write the answer in this cell]\n",
    "\n",
    "**ANSWER QUESTION 2**\n",
    "\n",
    "\n",
    "In terms of fraction of misclassified samples the training error obtained is 7% while the test error is 9% . Once again the test error is higher than the training error. Compared to the previous case, both the training and the test error are reduced and this is connected to the fact that we are running the model for a larger number of iterations."
   ]
  },
  {
   "cell_type": "markdown",
   "metadata": {},
   "source": [
    "# Logistic Regression\n",
    "Now we use logistic regression, exploiting the implementation in Scikit-learn, to predict labels. We will also plot the decision region of logistic regression.\n",
    "\n",
    "We first load the dataset again."
   ]
  },
  {
   "cell_type": "code",
   "execution_count": 10,
   "metadata": {},
   "outputs": [
    {
     "name": "stdout",
     "output_type": "stream",
     "text": [
      "['Position', 'Height cm', 'kg', 'Age']\n"
     ]
    }
   ],
   "source": [
    "filename = 'data/NBA.csv'\n",
    "NBA = csv.reader(open(filename, newline=''), delimiter=',')\n",
    "\n",
    "header = next(NBA)\n",
    "print(header)\n",
    "\n",
    "dataset = list(NBA)\n",
    "for i in range(len(dataset)):\n",
    "    dataset[i] = [int(x) for x in dataset[i]]\n",
    "    \n",
    "dataset = np.asarray(dataset)\n",
    "\n",
    "X = dataset[:,1:]\n",
    "Y = dataset[:,0]\n",
    "\n",
    "Y = Y*2-1  # set labels to -1, 1 as required by perceptron implementation\n",
    "\n",
    "m = dataset.shape[0]\n",
    "permutation = np.random.permutation(m)\n",
    "\n",
    "X = X[permutation]\n",
    "Y = Y[permutation]"
   ]
  },
  {
   "cell_type": "markdown",
   "metadata": {},
   "source": [
    "**TO DO** As for the previous part, divide the data into training and test (70%-30%) and add a 1 as first component to each sample."
   ]
  },
  {
   "cell_type": "code",
   "execution_count": 11,
   "metadata": {},
   "outputs": [
    {
     "name": "stdout",
     "output_type": "stream",
     "text": [
      "Shape of training set: (182, 3)\n",
      "Shape of test set: (78, 3)\n",
      "Shape of label training set: (182,)\n",
      "Shape of label test set: (78,)\n",
      "Shape of training set with 1 to each sample: (182, 4)\n",
      "Shape of test set with 1 to each sample: (78, 4)\n"
     ]
    }
   ],
   "source": [
    "#Divide in training and test: make sure that your training set\n",
    "#contains at least 10 elements from class 1 and at least 10 elements\n",
    "#from class -1! If it does not, modify the code so to apply more random\n",
    "#permutations (or the same permutation multiple times) until this happens.\n",
    "#IMPORTANT: do not change the random seed.\n",
    "\n",
    "m_training = int(0.7*len(X)) # PLACE YOUR CODE\n",
    "m_test = int(0.3*len(X))# PLACE YOUR CODE\n",
    "\n",
    "X_training = np.array([X[i] for i in range(0,m_training)]) # PLACE YOUR CODE\n",
    "Y_training = np.array([Y[i] for i in range(0, m_training)]) # PLACE YOUR CODE\n",
    "\n",
    "#EVENTUALE CONTROLLO\n",
    "\n",
    "X_test = np.array([X[i] for i in range(m_training,len(X))]) # PLACE YOUR CODE\n",
    "Y_test = np.array([Y[i] for i in range(m_training,len(Y))]) # PLACE YOUR CODE\n",
    "\n",
    "print(\"Shape of training set: \" + str(X_training.shape))\n",
    "print(\"Shape of test set: \" + str(X_test.shape))\n",
    "print(\"Shape of label training set: \" + str(Y_training.shape))\n",
    "print(\"Shape of label test set: \" + str(Y_test.shape))\n",
    "\n",
    "\n",
    "#add a 1 to each sample (homogeneous coordinates)\n",
    "X_training = np.hstack((np.ones((m_training,1)),X_training))\n",
    "#print(X_training)\n",
    "X_test = np.hstack((np.ones((m_test,1)),X_test))\n",
    "\n",
    "\n",
    "print(\"Shape of training set with 1 to each sample: \" + str(X_training.shape))\n",
    "print(\"Shape of test set with 1 to each sample: \" + str(X_test.shape))\n"
   ]
  },
  {
   "cell_type": "markdown",
   "metadata": {},
   "source": [
    "To define a logistic regression model in Scikit-learn use the instruction\n",
    "\n",
    "$linear\\_model.LogisticRegression(C=1e5)$\n",
    "\n",
    "($C$ is a parameter related to *regularization*, a technique that\n",
    "we will see later in the course. Setting it to a high value is almost\n",
    "as ignoring regularization, so the instruction above corresponds to the\n",
    "logistic regression you have seen in class.)\n",
    "\n",
    "To learn the model you need to use the $fit(...)$ instruction and to predict you need to use the $predict(...)$ function. See the Scikit-learn documentation for how to use it.\n",
    "\n",
    "**TO DO** Define the logistic regression model, then learn the model using the training set and predict on the test set. Then print the fraction of samples misclassified in the training set and in the test set."
   ]
  },
  {
   "cell_type": "code",
   "execution_count": 12,
   "metadata": {},
   "outputs": [
    {
     "name": "stdout",
     "output_type": "stream",
     "text": [
      "Error rate on training set: 0.06043956043956045\n",
      "Error rate on test set: 0.08974358974358976\n"
     ]
    }
   ],
   "source": [
    "#part on logistic regression for 2 classes\n",
    "logreg = linear_model.LogisticRegression(C=1e5) #a large C disables regularization\n",
    "\n",
    "#learn from training set\n",
    "reg_training =logreg.fit(X_training, Y_training) # PLACE YOUR CODE  \n",
    "#print(reg)\n",
    "\n",
    "#predict on training set\n",
    "pred_training = logreg.predict(X_training) # PLACE YOUR CODE\n",
    "#print(pred)\n",
    "\n",
    "#print the error rate = fraction of misclassified samples\n",
    "error_rate_training = 0\n",
    "\n",
    "# PLACE YOUR CODE\n",
    "score_training = logreg.score(X_training, Y_training)\n",
    "#print(score_training)\n",
    "error_rate_training = 1-score_training\n",
    "\n",
    "print(\"Error rate on training set: \"+str(error_rate_training))\n",
    "\n",
    "#predict on test set\n",
    "pred_test = logreg.predict(X_test) # PLACE YOUR CODE\n",
    "\n",
    "#print the error rate = fraction of misclassified samples\n",
    "error_rate_test = 0\n",
    "\n",
    "# PLACE YOUR CODE\n",
    "score_test = logreg.score(X_test, Y_test)\n",
    "#print(score_test)\n",
    "error_rate_test = 1-score_test\n",
    "\n",
    "print(\"Error rate on test set: \" + str(error_rate_test))"
   ]
  },
  {
   "cell_type": "markdown",
   "metadata": {},
   "source": [
    "**TO DO** Now pick two features and restrict the dataset to include only two features, whose indices are specified in the $feature$ vector below. Then split into training and test. Which features are you going to select ?"
   ]
  },
  {
   "cell_type": "code",
   "execution_count": 13,
   "metadata": {},
   "outputs": [],
   "source": [
    "#to make the plot we need to reduce the data to 2D, so we choose two features\n",
    "features_list = ['height', 'weight', 'age']\n",
    "labels_list = ['Center', 'Point guard']\n",
    "\n",
    "# select a pair of features\n",
    "index_feature1 = 0 # we choose height\n",
    "index_feature2 = 1 # and weight (age of course is not very meaningful)\n",
    "features = [index_feature1, index_feature2]\n",
    "\n",
    "feature_name0 = features_list[features[0]]\n",
    "feature_name1 = features_list[features[1]]\n",
    "\n",
    "X_reduced = X[:,features]\n",
    "\n",
    "X_training = np.array([X_reduced[i] for i in range(0,m_training)]) # PLACE YOUR CODE\n",
    "Y_training = np.array([Y[i] for i in range(0, m_training)]) # PLACE YOUR CODE\n",
    "\n",
    "X_test = np.array([X_reduced[i] for i in range(m_training,len(X))]) # PLACE YOUR CODE\n",
    "Y_test = np.array([Y[i] for i in range(m_training,len(Y))]) # PLACE YOUR CODE"
   ]
  },
  {
   "cell_type": "markdown",
   "metadata": {},
   "source": [
    "Now learn a model using the training data and measure the performances."
   ]
  },
  {
   "cell_type": "code",
   "execution_count": 14,
   "metadata": {},
   "outputs": [
    {
     "name": "stdout",
     "output_type": "stream",
     "text": [
      "Error rate on test set: 0.08974358974358976\n"
     ]
    }
   ],
   "source": [
    "# learning from training data\n",
    "\n",
    "# PLACE YOUR CODE\n",
    "#learn from training set\n",
    "reg_training =logreg.fit(X_training, Y_training) # PLACE YOUR CODE  \n",
    "\n",
    "#print the error rate = fraction of misclassified samples\n",
    "error_rate_test = 0\n",
    "\n",
    "# PLACE YOUR CODE\n",
    "score_test = logreg.score(X_test, Y_test)\n",
    "#print(score_test)\n",
    "error_rate_test = 1-score_test\n",
    "\n",
    "print(\"Error rate on test set: \" + str(error_rate_test))"
   ]
  },
  {
   "cell_type": "markdown",
   "metadata": {},
   "source": [
    "**TO DO** [Answer the following] Which features did you select and why ? Compare the perfromances with the ones of the case with all the 3 features and comment about the results. [Write the answer in this cell]\n",
    "\n",
    "**ANSWER QUESTION 3**\n",
    "\n",
    "\n",
    "The features selected in the second case are the \"height\" and \"weight\" because there could actually be a correlation between this two. <br>\n",
    "As regards the performances with with all 3 features and this one, with only two, the same results are obtained: this is due to the fact that the third feature \"age\" is not actually correlated with the others and therefore it won't influence the result in the first case.  \n",
    "\n",
    "3 features result: <br>\n",
    "Error rate on test set: 0.0897435897435897\n",
    "\n",
    "2 features result: <br>\n",
    "Error rate on test set: 0.08974358974358976\n",
    "\n",
    "\n"
   ]
  },
  {
   "cell_type": "markdown",
   "metadata": {},
   "source": [
    "If everything is ok, the code below uses the model in $logreg$ to plot the decision region for the two features chosen above, with colors denoting the predicted value. It also plots the points (with correct labels) in the training set. It makes a similar plot for the test set."
   ]
  },
  {
   "cell_type": "code",
   "execution_count": 15,
   "metadata": {
    "scrolled": true
   },
   "outputs": [
    {
     "data": {
      "image/png": "[encoded data removed]",
      "text/plain": [
       "<Figure size 288x216 with 1 Axes>"
      ]
     },
     "metadata": {},
     "output_type": "display_data"
    },
    {
     "data": {
      "image/png": "[encoded data removed]",
      "text/plain": [
       "<Figure size 288x216 with 1 Axes>"
      ]
     },
     "metadata": {},
     "output_type": "display_data"
    }
   ],
   "source": [
    "# Plot the decision boundary. For that, we will assign a color to each\n",
    "# point in the mesh [x_min, x_max]x[y_min, y_max].\n",
    "\n",
    "# NOTICE: This visualization code has been developed for a \"standard\" solution of the notebook, \n",
    "# it could be necessary to make some fixes to adapt to your implementation\n",
    "\n",
    "h = .02  # step size in the mesh\n",
    "x_min, x_max = X_reduced[:, 0].min() - .5, X_reduced[:, 0].max() + .5\n",
    "y_min, y_max = X_reduced[:, 1].min() - .5, X_reduced[:, 1].max() + .5\n",
    "xx, yy = np.meshgrid(np.arange(x_min, x_max, h), np.arange(y_min, y_max, h))\n",
    "\n",
    "Z = logreg.predict(np.c_[xx.ravel(), yy.ravel()])\n",
    "\n",
    "# Put the result into a color plot\n",
    "Z = Z.reshape(xx.shape)\n",
    "\n",
    "plt.figure(1, figsize=(4, 3))\n",
    "plt.pcolormesh(xx, yy, Z, cmap=plt.cm.Paired)\n",
    "\n",
    "# Plot also the training points\n",
    "plt.scatter(X_training[:, 0], X_training[:, 1], c=Y_training, edgecolors='k', cmap=plt.cm.Paired)\n",
    "plt.xlabel(feature_name0)\n",
    "plt.ylabel(feature_name1)\n",
    "\n",
    "plt.xlim(xx.min(), xx.max())\n",
    "plt.ylim(yy.min(), yy.max())\n",
    "plt.xticks(())\n",
    "plt.yticks(())\n",
    "plt.title('Training set')\n",
    "\n",
    "plt.show()\n",
    "\n",
    "# Put the result into a color plot\n",
    "Z = Z.reshape(xx.shape)\n",
    "plt.figure(1, figsize=(4, 3))\n",
    "plt.pcolormesh(xx, yy, Z, cmap=plt.cm.Paired)\n",
    "\n",
    "# Plot also the test points \n",
    "plt.scatter(X_test[:, 0], X_test[:, 1], c=Y_test, edgecolors='k', cmap=plt.cm.Paired, marker='s')\n",
    "plt.xlabel(feature_name0)\n",
    "plt.ylabel(feature_name1)\n",
    "\n",
    "plt.xlim(xx.min(), xx.max())\n",
    "plt.ylim(yy.min(), yy.max())\n",
    "plt.xticks(())\n",
    "plt.yticks(())\n",
    "plt.title('Test set')\n",
    "\n",
    "plt.show()"
   ]
  },
  {
   "cell_type": "markdown",
   "metadata": {},
   "source": [
    "# 2) Linear Regression on the Boston House Price dataset\n",
    "\n",
    "Dataset description: <br>\n",
    "The Boston House Price Dataset involves the prediction of a house price in thousands of dollars given details about the house and its neighborhood.\n",
    "\n",
    "The dataset contains a total of 500 observations, which relate 13 input features to an output variable (house price).\n",
    "\n",
    "The variable names are as follows:\n",
    "\n",
    "CRIM: per capita crime rate by town.\n",
    "\n",
    "ZN: proportion of residential land zoned for lots over 25,000 sq.ft.\n",
    "\n",
    "INDUS: proportion of nonretail business acres per town.\n",
    "\n",
    "CHAS: Charles River dummy variable (= 1 if tract bounds river; 0 otherwise).\n",
    "\n",
    "NOX: nitric oxides concentration (parts per 10 million).\n",
    "\n",
    "RM: average number of rooms per dwelling.\n",
    "\n",
    "AGE: proportion of owner-occupied units built prior to 1940.\n",
    "\n",
    "DIS: weighted distances to five Boston employment centers.\n",
    "\n",
    "RAD: index of accessibility to radial highways.\n",
    "\n",
    "TAX: full-value property-tax rate per $10,000.\n",
    "\n",
    "PTRATIO: pupil-teacher ratio by town.\n",
    "\n",
    "B: 1000*(Bk – 0.63)2 where Bk is the proportion of blacks by town.\n",
    "\n",
    "LSTAT: % lower status of the population.\n",
    "\n",
    "MEDV: Median value of owner-occupied homes in $1000s.\n",
    "    "
   ]
  },
  {
   "cell_type": "code",
   "execution_count": 16,
   "metadata": {},
   "outputs": [],
   "source": [
    "#needed if you get the IPython/javascript error on the in-line plots\n",
    "%matplotlib nbagg  \n",
    "\n",
    "import matplotlib.pyplot as plt\n",
    "import numpy as np\n",
    "import scipy as sp\n",
    "from scipy import stats"
   ]
  },
  {
   "cell_type": "code",
   "execution_count": 17,
   "metadata": {},
   "outputs": [
    {
     "name": "stdout",
     "output_type": "stream",
     "text": [
      "DescribeResult(nobs=500, minmax=(array([6.3200e-03, 0.0000e+00, 4.6000e-01, 0.0000e+00, 3.8500e-01,\n",
      "       3.5610e+00, 2.9000e+00, 1.1296e+00, 1.0000e+00, 1.8700e+02,\n",
      "       1.2600e+01, 3.2000e-01, 1.7300e+00, 5.0000e+01]), array([ 88.9762, 100.    ,  27.74  ,   1.    ,   0.871 ,   8.78  ,\n",
      "       100.    ,  12.1265,  24.    , 711.    ,  22.    , 396.9   ,\n",
      "        37.97  , 500.    ])), mean=array([3.65578576e+00, 1.15000000e+01, 1.11317400e+01, 7.00000000e-02,\n",
      "       5.54451400e-01, 6.28297000e+00, 6.84246000e+01, 3.81193180e+00,\n",
      "       9.64200000e+00, 4.09624000e+02, 1.84286000e+01, 3.56208040e+02,\n",
      "       1.26987400e+01, 2.25680000e+02]), variance=array([7.47252195e+01, 5.48905812e+02, 4.76198228e+01, 6.52304609e-02,\n",
      "       1.35838329e-02, 4.97618330e-01, 7.99314163e+02, 4.46304043e+00,\n",
      "       7.59617595e+01, 2.85605197e+04, 4.67663531e+00, 8.41657137e+03,\n",
      "       5.13361942e+01, 8.52982926e+03]), skewness=array([ 5.17851447,  2.19924065,  0.29469001,  3.37060575,  0.72944382,\n",
      "        0.40691344, -0.58266003,  0.99061328,  0.9886802 ,  0.65098333,\n",
      "       -0.79127942, -2.85972639,  0.89051925,  1.09625625]), kurtosis=array([36.3384518 ,  3.88460431, -1.25254394,  9.3609831 , -0.10223624,\n",
      "        1.84311394, -0.99523636,  0.43299159, -0.90519243, -1.16696682,\n",
      "       -0.30903922,  7.00864873,  0.44527324,  1.4266838 ]))\n",
      "Shape of data array: (500, 14)\n"
     ]
    },
    {
     "data": {
      "text/html": [
       "<div>\n",
       "<style scoped>\n",
       "    .dataframe tbody tr th:only-of-type {\n",
       "        vertical-align: middle;\n",
       "    }\n",
       "\n",
       "    .dataframe tbody tr th {\n",
       "        vertical-align: top;\n",
       "    }\n",
       "\n",
       "    .dataframe thead th {\n",
       "        text-align: right;\n",
       "    }\n",
       "</style>\n",
       "<table border=\"1\" class=\"dataframe\">\n",
       "  <thead>\n",
       "    <tr style=\"text-align: right;\">\n",
       "      <th></th>\n",
       "      <th>CRIM;ZN;INDUS;CHAS;NOX;RM;AGE;DIS;RAD;TAX;PTRATIO;B;LSTAT;MEDV</th>\n",
       "    </tr>\n",
       "  </thead>\n",
       "  <tbody>\n",
       "    <tr>\n",
       "      <th>0</th>\n",
       "      <td>0.00632;18;2.31;0;0.538;6.575;65.2;4.09;1;296;...</td>\n",
       "    </tr>\n",
       "    <tr>\n",
       "      <th>1</th>\n",
       "      <td>0.02731;0;7.07;0;0.469;6.421;78.9;4.9671;2;242...</td>\n",
       "    </tr>\n",
       "    <tr>\n",
       "      <th>2</th>\n",
       "      <td>0.02729;0;7.07;0;0.469;7.185;61.1;4.9671;2;242...</td>\n",
       "    </tr>\n",
       "    <tr>\n",
       "      <th>3</th>\n",
       "      <td>0.03237;0;2.18;0;0.458;6.998;45.8;6.0622;3;222...</td>\n",
       "    </tr>\n",
       "    <tr>\n",
       "      <th>4</th>\n",
       "      <td>0.06905;0;2.18;0;0.458;7.147;54.2;6.0622;3;222...</td>\n",
       "    </tr>\n",
       "    <tr>\n",
       "      <th>...</th>\n",
       "      <td>...</td>\n",
       "    </tr>\n",
       "    <tr>\n",
       "      <th>495</th>\n",
       "      <td>0.17899;0;9.69;0;0.585;5.67;28.8;2.7986;6;391;...</td>\n",
       "    </tr>\n",
       "    <tr>\n",
       "      <th>496</th>\n",
       "      <td>0.2896;0;9.69;0;0.585;5.39;72.9;2.7986;6;391;1...</td>\n",
       "    </tr>\n",
       "    <tr>\n",
       "      <th>497</th>\n",
       "      <td>0.26838;0;9.69;0;0.585;5.794;70.6;2.8927;6;391...</td>\n",
       "    </tr>\n",
       "    <tr>\n",
       "      <th>498</th>\n",
       "      <td>0.23912;0;9.69;0;0.585;6.019;65.3;2.4091;6;391...</td>\n",
       "    </tr>\n",
       "    <tr>\n",
       "      <th>499</th>\n",
       "      <td>0.17783;0;9.69;0;0.585;5.569;73.5;2.3999;6;391...</td>\n",
       "    </tr>\n",
       "  </tbody>\n",
       "</table>\n",
       "<p>500 rows × 1 columns</p>\n",
       "</div>"
      ],
      "text/plain": [
       "    CRIM;ZN;INDUS;CHAS;NOX;RM;AGE;DIS;RAD;TAX;PTRATIO;B;LSTAT;MEDV\n",
       "0    0.00632;18;2.31;0;0.538;6.575;65.2;4.09;1;296;...            \n",
       "1    0.02731;0;7.07;0;0.469;6.421;78.9;4.9671;2;242...            \n",
       "2    0.02729;0;7.07;0;0.469;7.185;61.1;4.9671;2;242...            \n",
       "3    0.03237;0;2.18;0;0.458;6.998;45.8;6.0622;3;222...            \n",
       "4    0.06905;0;2.18;0;0.458;7.147;54.2;6.0622;3;222...            \n",
       "..                                                 ...            \n",
       "495  0.17899;0;9.69;0;0.585;5.67;28.8;2.7986;6;391;...            \n",
       "496  0.2896;0;9.69;0;0.585;5.39;72.9;2.7986;6;391;1...            \n",
       "497  0.26838;0;9.69;0;0.585;5.794;70.6;2.8927;6;391...            \n",
       "498  0.23912;0;9.69;0;0.585;6.019;65.3;2.4091;6;391...            \n",
       "499  0.17783;0;9.69;0;0.585;5.569;73.5;2.3999;6;391...            \n",
       "\n",
       "[500 rows x 1 columns]"
      ]
     },
     "execution_count": 17,
     "metadata": {},
     "output_type": "execute_result"
    }
   ],
   "source": [
    "#Import Data: Load the data from a .csv file\n",
    "\n",
    "filename = \"data/house.csv\"\n",
    "Data = np.genfromtxt(filename, delimiter=';',skip_header=1)\n",
    "\n",
    "#A quick overview of data, to inspect the data you can use the method describe()\n",
    "\n",
    "dataDescription = stats.describe(Data)\n",
    "print(dataDescription)\n",
    "print (\"Shape of data array: \" + str(Data.shape))\n",
    "\n",
    "\n",
    "#for more interesting visualization: use Panda!\n",
    "#import pandas as pd\n",
    "#\n",
    "#filename=\"data/house.csv\"\n",
    "#data_panda=pd.read_csv(filename, nrows=500)\n",
    "#data_panda\n"
   ]
  },
  {
   "cell_type": "markdown",
   "metadata": {},
   "source": [
    "# Split data in training, validation and test sets\n",
    "\n",
    "\n",
    "\n",
    "Given $m$ total data, denote with $m_{tv}$ the part used for training and validation. Keep $m_t$ data as training data, $m_{val}:=m_{tv}-m_t$ as validation data and $m_{test}:=m - m_{val} - m_t = m-m_{tv}$. For instance one can take $m_t=0.6m$ of the data as training, $m_{val}=0.2m$  validation and $m_{test}=0.2m$ as testing. Let us define as define\n",
    "\n",
    "$\\bullet$ $S_{t}$ the training data set\n",
    "\n",
    "$\\bullet$ $S_{val}$ the validation data set\n",
    "\n",
    "$\\bullet$ $S_{test}$ the testing data set\n",
    "\n",
    "\n",
    "The reason for this splitting is as follows:\n",
    "\n",
    "TRAINING DATA: The training data are used to compute the empirical loss\n",
    "$$\n",
    "L_S(h) = \\frac{1}{m_t} \\sum_{z_i \\in S_{t}} \\ell(h,z_i)\n",
    "$$\n",
    "which is used to estimate $h$ in a given model class ${\\cal H}$.\n",
    "i.e. \n",
    "$$\n",
    "\\hat{h} = {\\rm arg\\; min}_{h \\in {\\cal H}} \\, L_S(h)\n",
    "$$\n",
    "\n",
    "VALIDATION DATA: When different model classes are present (e.g. of different complexity such as linear regression which uses a different number $d_j$ of regressors $x_1$,...$x_{d_j}$), one has to choose which one is the \"best\" complexity. In this simple example the validation set is not needed, but it is better to get used with it.\n",
    "Let ${\\cal H}_{d_j}$ be the space of models as a function of the complexity $d_j$ and let \n",
    "$$\n",
    "\\hat h_{d_j} = {\\rm arg\\; min}_{h \\in {\\cal H}_{d_j}} \\, L_S(h)\n",
    "$$\n",
    "\n",
    "One can estimate the generalization error for model $\\hat h_{d_j}$ as follows:\n",
    "$$\n",
    "L_{{\\cal D}}(\\hat h_{d_j}) \\simeq \\frac{1}{m_{val}} \\sum_{ z_i \\in S_{val}} \\ell(\\hat h_{d_j},z_i)\n",
    "$$\n",
    "and then choose the complexity which achieves the best estimate of the generalization error\n",
    "$$\n",
    "\\hat d_j: = {\\rm arg\\; min}_{d_j} \\,\\frac{1}{m_{val}} \\sum_{ z_i \\in S_{val}} \\ell(\\hat h_{d_j},z_i)\n",
    "$$\n",
    "\n",
    "TESTING DATA: Last, the test data set can be used to estimate the performance of the final estimated model\n",
    "$\\hat h_{\\hat d_j}$ using:\n",
    "$$\n",
    "L_{{\\cal D}}(\\hat h_{\\hat d_j}) \\simeq \\frac{1}{m_{test}} \\sum_{ z_i \\in S_{test}} \\ell(\\hat h_{\\hat d_j},z_i)\n",
    "$$\n",
    "\n",
    "\n",
    "**TO DO**: split the data in training, validation and test sets (60%-20%-20%)"
   ]
  },
  {
   "cell_type": "code",
   "execution_count": 18,
   "metadata": {},
   "outputs": [
    {
     "name": "stdout",
     "output_type": "stream",
     "text": [
      "Total number of samples:  500\n",
      "Size of each chunk of data:  0.2\n",
      "Training input data size:  (300, 13)\n",
      "Training output data size:  (300,)\n",
      "Validation input data size:  (100, 13)\n",
      "Validation output data size:  (100,)\n",
      "Test input data size:  (100, 13)\n",
      "Test output data size:  (100,)\n"
     ]
    }
   ],
   "source": [
    "#get number of total samples\n",
    "num_total_samples = Data.shape[0]\n",
    "\n",
    "print (\"Total number of samples: \", num_total_samples)\n",
    "\n",
    "#size of each chunk of data (1/5 each): 3 of them for training, 1 for validation, 1 for testing\n",
    "size_chunk = 0.2 # PLACE YOUR CODE\n",
    "\n",
    "print (\"Size of each chunk of data: \", size_chunk)\n",
    "\n",
    "#shuffle the data\n",
    "np.random.shuffle(Data)\n",
    "\n",
    "size_training=int(size_chunk*num_total_samples*3)\n",
    "size_validation=int(size_chunk*num_total_samples)\n",
    "size_test= int(size_chunk*num_total_samples)\n",
    "\n",
    "#training data \n",
    "X_training = np.array(Data[0:size_training,0:13])# PLACE YOUR CODE\n",
    "Y_training = np.array(Data[0:size_training,13])# PLACE YOUR CODE\n",
    "print (\"Training input data size: \", X_training.shape)\n",
    "print (\"Training output data size: \", Y_training.shape)\n",
    "\n",
    "#validation data, to be used to choose among different models\n",
    "X_validation =  np.array(Data[size_training:size_training+size_validation,0:13]) # PLACE YOUR CODE\n",
    "Y_validation = np.array(Data[size_training:size_training+size_validation,13]) # PLACE YOUR CODE\n",
    "print (\"Validation input data size: \", X_validation.shape)\n",
    "print (\"Validation output data size: \", Y_validation.shape)\n",
    "\n",
    "#test data, to be used to estimate the true loss of the final model(s)\n",
    "X_test =  np.array(Data[size_training+size_validation:size_training+size_validation+size_test,0:13]) # PLACE YOUR CODE\n",
    "Y_test =  np.array(Data[size_training+size_validation:size_training+size_validation+size_test,13]) # PLACE YOUR CODE\n",
    "print (\"Test input data size: \", X_test.shape)\n",
    "print (\"Test output data size: \", Y_test.shape)\n",
    "\n",
    "\n"
   ]
  },
  {
   "cell_type": "markdown",
   "metadata": {},
   "source": [
    "# Data Normalization\n",
    "It is common practice in Statistics and Machine Learning to scale the data (= each variable) so that it is centered (zero mean) and has standard deviation equal to 1. This helps in terms of numerical conditioning of the (inverse) problems of estimating the model (the coefficients of the linear regression in this case), as well as to give the same scale to all the coefficients."
   ]
  },
  {
   "cell_type": "code",
   "execution_count": 19,
   "metadata": {},
   "outputs": [
    {
     "name": "stdout",
     "output_type": "stream",
     "text": [
      "Mean of the training input data: [ 6.10622664e-17 -3.70074342e-18  2.18565906e-15  3.83026943e-17\n",
      " -3.72479825e-16  3.02868841e-15 -1.93918955e-16  2.47579734e-16\n",
      "  7.40148683e-19 -2.62752782e-17  1.59761093e-14  3.90150875e-15\n",
      "  1.51360406e-16]\n",
      "Std of the training input data: [1. 1. 1. 1. 1. 1. 1. 1. 1. 1. 1. 1. 1.]\n",
      "Mean of the validation input data: [ 0.09713524 -0.22271041  0.18088409 -0.02672612  0.22469702 -0.05372325\n",
      "  0.20917576 -0.29365518  0.094487    0.08618127  0.04626668 -0.18558466\n",
      "  0.12832573]\n",
      "Std of the validation input data: [0.99999851 0.67986279 0.99150923 0.95206542 0.98716645 0.92315143\n",
      " 0.90237485 0.85945075 1.0540331  1.03718684 1.08594111 1.29421624\n",
      " 0.92620227]\n",
      "Mean of the test input data: [ 6.42436063e-02 -7.24005566e-02  6.28938320e-02  9.35414347e-02\n",
      "  5.76673729e-02  1.18145142e-01  1.29849198e-01 -7.63735960e-02\n",
      " -2.33146835e-17  5.67398437e-02  4.34048199e-02 -9.40811854e-02\n",
      " -2.33854181e-03]\n",
      "Std of the test input data: [1.34639677 0.86090108 1.0624949  1.14727939 1.04674684 1.12534036\n",
      " 0.9794893  1.04277365 1.01967324 1.03090441 1.06183438 1.083051\n",
      " 1.07334219]\n"
     ]
    }
   ],
   "source": [
    "#scale the data\n",
    "\n",
    "# standardize the input matrix\n",
    "from sklearn import preprocessing\n",
    "# the transformation is computed on training data and then used on all the 3 sets\n",
    "scaler = preprocessing.StandardScaler().fit(X_training) \n",
    "\n",
    "X_training = scaler.transform(X_training)\n",
    "print (\"Mean of the training input data:\", X_training.mean(axis=0))\n",
    "print (\"Std of the training input data:\",X_training.std(axis=0))\n",
    "\n",
    "X_validation = scaler.transform(X_validation) # use the same transformation on validation data\n",
    "print (\"Mean of the validation input data:\", X_validation.mean(axis=0))\n",
    "print (\"Std of the validation input data:\", X_validation.std(axis=0))\n",
    "\n",
    "X_test = scaler.transform(X_test) # use the same transformation on test data\n",
    "print (\"Mean of the test input data:\", X_test.mean(axis=0))\n",
    "print (\"Std of the test input data:\", X_test.std(axis=0))"
   ]
  },
  {
   "cell_type": "markdown",
   "metadata": {},
   "source": [
    "# Model Training \n",
    "\n",
    "The model is trained (= estimated) minimizing the empirical error\n",
    "$$\n",
    "L_S(h) := \\frac{1}{m_t} \\sum_{z_i \\in S_{t}} \\ell(h,z_i)\n",
    "$$\n",
    "When the loss function is the quadratic loss\n",
    "$$\n",
    "\\ell(h,z) := (y - h(x))^2\n",
    "$$\n",
    "we define  the Residual Sum of Squares (RSS) as\n",
    "$$\n",
    "RSS(h):= \\sum_{z_i \\in S_{t}} \\ell(h,z_i) = \\sum_{z_i \\in S_{t}} (y_i - h(x_i))^2\n",
    "$$ so that the training error becomes\n",
    "$$\n",
    "L_S(h) = \\frac{RSS(h)}{m_t}\n",
    "$$\n",
    "\n",
    "We recal that, for linear models we have $h(x) = <w,x>$ and the Empirical error $L_S(h)$ can be written\n",
    "in terms of the vector of parameters $w$ in the form\n",
    "$$\n",
    "L_S(w) = \\frac{1}{m_t} \\|Y - X w\\|^2\n",
    "$$\n",
    "where $Y$ and $X$ are the matrices whose $i-$th row are, respectively, the output data $y_i$ and the input vectors $x_i^\\top$.\n",
    "\n",
    "\n",
    " **TO DO:** compute the linear regression coefficients using np.linalg.lstsq from scikitlear \n",
    " "
   ]
  },
  {
   "cell_type": "code",
   "execution_count": 20,
   "metadata": {},
   "outputs": [
    {
     "name": "stdout",
     "output_type": "stream",
     "text": [
      "LS coefficients with numpy lstsq: [223.89        -8.40089099  10.93054022  -0.90550495   6.05766742\n",
      " -14.52815497  24.32662868  -6.69498462 -33.69853837  19.63915895\n",
      " -19.22128412 -17.1979077    7.50298565 -33.69740651]\n",
      "\n",
      "\n",
      "RSS  by hand :  596437.9566164186\n",
      "RSS with numpy lstsq:  [596437.95661642]\n",
      "Empirical risk with numpy lstsq: [1988.12652205]\n"
     ]
    }
   ],
   "source": [
    "#compute linear regression coefficients for training data\n",
    "\n",
    "#add a 1 at the beginning of each sample for training, validation, and testing (use homogeneous coordinates)\n",
    "m_training = X_training.shape[0]\n",
    "X_trainingH = np.hstack((np.ones((m_training,1)),X_training)) # H: in homogeneous coordinates\n",
    "#print X_training[0,:]\n",
    "\n",
    "m_validation = X_validation.shape[0]\n",
    "X_validationH = np.hstack((np.ones((m_validation,1)),X_validation))  # H: in homogeneous coordinates\n",
    "#print X_validation[0,:]\n",
    "\n",
    "m_test = X_test.shape[0]\n",
    "X_testH = np.hstack((np.ones((m_test,1)),X_test))  # H: in homogeneous coordinates\n",
    "#print X_test[0,:]   \n",
    "\n",
    "# Compute the least-squares coefficients using linalg.lstsq\n",
    "w_np, RSStr_np, rank_Xtr, sv_Xtr =  np.linalg.lstsq(X_trainingH,Y_training, rcond=None) # PLACE YOUR CODE\n",
    "print(\"LS coefficients with numpy lstsq:\", w_np)\n",
    "\n",
    "print(\"\\n\")\n",
    "## compute Residual sums of squares \n",
    "\n",
    "#RSStr_hand =  # PLACE YOUR CODE\n",
    "RSStr_hand = 0\n",
    "\n",
    "for i in range(0,m_training):\n",
    "    RSStr_hand += (Y_training[i]-np.dot(w_np,X_trainingH[i]))**2\n",
    "print(\"RSS  by hand : \", RSStr_hand)\n",
    "\n",
    "print(\"RSS with numpy lstsq: \", RSStr_np)\n",
    "print(\"Empirical risk with numpy lstsq:\", RSStr_np/m_training)"
   ]
  },
  {
   "cell_type": "markdown",
   "metadata": {},
   "source": [
    "## Data prediction \n",
    "\n",
    "Compute the output predictions on both training and validation set and compute the Residual Sum of Sqaures (RSS). \n",
    "\n",
    "**TO DO**: Compute these quantities on  training, validation and test sets."
   ]
  },
  {
   "cell_type": "code",
   "execution_count": 21,
   "metadata": {},
   "outputs": [
    {
     "name": "stdout",
     "output_type": "stream",
     "text": [
      "RSS on validation data: [179104.26122169]\n",
      "Loss estimated from validation data: [1791.04261222]\n",
      "RSS on test data: [244224.69771499]\n",
      "Loss estimated from test data: [2442.24697715]\n"
     ]
    }
   ],
   "source": [
    "#compute predictions on training and validation\n",
    "from sklearn import linear_model\n",
    "regr = linear_model.LinearRegression()\n",
    "regr.fit(X_trainingH, Y_training)\n",
    "\n",
    "\n",
    "#prediction_training \n",
    "prediction_training = regr.predict(X_trainingH)# PLACE YOUR CODE\n",
    "prediction_validation = regr.predict(X_validationH)# PLACE YOUR CODE\n",
    "prediction_test = regr.predict(X_testH)# PLACE YOUR CODE\n",
    "\n",
    "#what about the loss for points in the validation data?\n",
    "RSS_validation = np.linalg.lstsq(X_validationH,Y_validation, rcond=None)[1] # PLACE YOUR CODE\n",
    "RSS_test = np.linalg.lstsq(X_testH,Y_test, rcond=None)[1]# PLACE YOUR CODE\n",
    "\n",
    "print(\"RSS on validation data:\",  RSS_validation)\n",
    "print(\"Loss estimated from validation data:\", RSS_validation/m_validation)\n",
    "\n",
    "print(\"RSS on test data:\",  RSS_test)\n",
    "print(\"Loss estimated from test data:\", RSS_test/m_test)"
   ]
  },
  {
   "cell_type": "markdown",
   "metadata": {},
   "source": [
    "### QUESTION 4: Comment on the results you get and on the difference between the train, validation and test errors.\n",
    "\n",
    "The results for the loss are: \n",
    "\n",
    "Empirical risk with numpy lstsq: [1988.12652205] - training <br>\n",
    "Loss estimated from validation data: [1791.04261222] - validation <br>\n",
    "Loss estimated from test data: [2442.24697715] - test <br>\n",
    "\n",
    "the order is 10^3, as expected. \n",
    "\n",
    "Three different datasets are needed to built a model: training set, validation set and test set and it's fundamental that the datasets are disjoint. The training set is used to train the model and so the training error tell us how well the model has learned the training data. The validation error is instead an indicator of how well the model fits unseen data, so the validation set is used to evaluate the model and it's used to reduce overfiting by determinating when to stop the training. In the final step the model is applied on a test set: so the test error tell us  how the model performs with and it's important to notice, once again, that the data in the test set must be untouched until this last set so they can't be used in  the previously steps. \n"
   ]
  },
  {
   "cell_type": "markdown",
   "metadata": {},
   "source": [
    "## Ordinary Least-Squares using scikit-learn\n",
    "Another fast way to compute the LS estimate is through sklearn.linear_model (for this function homogeneous coordinates are not needed)."
   ]
  },
  {
   "cell_type": "code",
   "execution_count": 22,
   "metadata": {},
   "outputs": [
    {
     "name": "stdout",
     "output_type": "stream",
     "text": [
      "Intercept: 223.89000000000016\n",
      "Least-Squares Coefficients: [ -8.40089099  10.93054022  -0.90550495   6.05766742 -14.52815497\n",
      "  24.32662868  -6.69498462 -33.69853837  19.63915895 -19.22128412\n",
      " -17.1979077    7.50298565 -33.69740651]\n",
      "Measure on training data: 0.26939975498035373\n"
     ]
    }
   ],
   "source": [
    "from sklearn import linear_model\n",
    "\n",
    "# build the LinearRegression() model and train it\n",
    "LinReg = linear_model.LinearRegression() # PLACE YOUR CODE\n",
    "\n",
    "# PLACE YOUR CODE\n",
    "Fit = LinReg.fit(X_training,Y_training) \n",
    "\n",
    "print(\"Intercept:\", LinReg.intercept_)\n",
    "print(\"Least-Squares Coefficients:\", LinReg.coef_)\n",
    "\n",
    "# predict output values on training and test sets\n",
    "# PLACE YOUR CODE\n",
    "Predict = LinReg.predict(X_training)\n",
    "\n",
    "\n",
    "# return a prediction score based on the coefficient of determination\n",
    "print(\"Measure on training data:\", 1-LinReg.score(X_training, Y_training))\n"
   ]
  },
  {
   "cell_type": "code",
   "execution_count": null,
   "metadata": {},
   "outputs": [],
   "source": []
  }
 ],
 "metadata": {
  "anaconda-cloud": {},
  "kernelspec": {
   "display_name": "Python 3",
   "language": "python",
   "name": "python3"
  },
  "language_info": {
   "codemirror_mode": {
    "name": "ipython",
    "version": 3
   },
   "file_extension": ".py",
   "mimetype": "text/x-python",
   "name": "python",
   "nbconvert_exporter": "python",
   "pygments_lexer": "ipython3",
   "version": "3.8.3"
  }
 },
 "nbformat": 4,
 "nbformat_minor": 2
}
