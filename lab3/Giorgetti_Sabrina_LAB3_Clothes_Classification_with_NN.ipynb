{
 "cells": [
  {
   "cell_type": "markdown",
   "metadata": {},
   "source": [
    "# Clothes Classification with Neural Networks\n",
    "\n",
    "In this notebook we are going to use the Neural Networks for image classification. We are going to use the same dataset of Lab 2 on SVM: Fashion MNIST (https://pravarmahajan.github.io/fashion/), a dataset of small images of clothes and accessories.\n",
    "\n",
    "The dataset labels are the following:\n",
    "\n",
    "| Label | Description |\n",
    "| --- | --- |\n",
    "| 0 | T-shirt/top |\n",
    "| 1 | Trouser |\n",
    "| 2 | Pullover |\n",
    "| 3 | Dress |\n",
    "| 4 | Coat |\n",
    "| 5 | Sandal |\n",
    "| 6 | Shirt |\n",
    "| 7 | Sneaker |\n",
    "| 8 | Bag |\n",
    "| 9 | Ankle boot |"
   ]
  },
  {
   "cell_type": "markdown",
   "metadata": {},
   "source": [
    "**TODO: Insert your surname, name and ID number**\n",
    "\n",
    "Student surname: Giorgetti\n",
    "\n",
    "Student name: Sabrina\n",
    "    \n",
    "ID: 2013375"
   ]
  },
  {
   "cell_type": "code",
   "execution_count": 1,
   "metadata": {},
   "outputs": [
    {
     "name": "stdout",
     "output_type": "stream",
     "text": [
      "scikit-learn version:  0.23.1\n"
     ]
    }
   ],
   "source": [
    "#load the required packages and check Scikit-learn version\n",
    "\n",
    "%matplotlib inline  \n",
    "\n",
    "import numpy as np\n",
    "import pandas as pd #added\n",
    "import scipy as sp\n",
    "import matplotlib.pyplot as plt\n",
    "\n",
    "import sklearn\n",
    "print ('scikit-learn version: ', sklearn.__version__)\n",
    "from sklearn.neural_network import MLPClassifier\n",
    "from sklearn.model_selection import GridSearchCV\n",
    "from sklearn.svm import SVC"
   ]
  },
  {
   "cell_type": "code",
   "execution_count": 2,
   "metadata": {},
   "outputs": [],
   "source": [
    "# helper function to load Fashion MNIST dataset from disk\n",
    "def load_mnist(path, kind='train'):\n",
    "    import os\n",
    "    import gzip\n",
    "    import numpy as np\n",
    "    labels_path = os.path.join(path, '%s-labels-idx1-ubyte.gz' % kind)\n",
    "    images_path = os.path.join(path, '%s-images-idx3-ubyte.gz' % kind)\n",
    "    with gzip.open(labels_path, 'rb') as lbpath:\n",
    "        labels = np.frombuffer(lbpath.read(), dtype=np.uint8,offset=8)\n",
    "    with gzip.open(images_path, 'rb') as imgpath:\n",
    "        images = np.frombuffer(imgpath.read(), dtype=np.uint8,offset=16).reshape(len(labels), 784)\n",
    "    return images, labels"
   ]
  },
  {
   "cell_type": "markdown",
   "metadata": {},
   "source": [
    "# TODO \n",
    "Place a seed for the random generatoryour (you can use your \"numero di matricola\"). Try to change the seed to see the impact of the randomization."
   ]
  },
  {
   "cell_type": "code",
   "execution_count": 3,
   "metadata": {},
   "outputs": [],
   "source": [
    "ID = 2003300 #changed \n",
    "np.random.seed(ID)"
   ]
  },
  {
   "cell_type": "code",
   "execution_count": 4,
   "metadata": {},
   "outputs": [
    {
     "name": "stdout",
     "output_type": "stream",
     "text": [
      "Number of samples in the MNIST dataset: 60000\n"
     ]
    }
   ],
   "source": [
    "#load the MNIST dataset and let's normalize the features so that each value is in [0,1]\n",
    "X, y = load_mnist(\"data\")\n",
    "print(\"Number of samples in the MNIST dataset:\", X.shape[0])\n",
    "# rescale the data\n",
    "X = X / 255.0"
   ]
  },
  {
   "cell_type": "markdown",
   "metadata": {},
   "source": [
    "Now split into training and test. We start with a small training set of 600 samples to reduce computation time while 4000 samples will be used for testing. Make sure that each label is present at least 10 times in train and test set frequencies."
   ]
  },
  {
   "cell_type": "code",
   "execution_count": 5,
   "metadata": {},
   "outputs": [
    {
     "name": "stdout",
     "output_type": "stream",
     "text": [
      "Labels in training dataset:  [0 1 2 3 4 5 6 7 8 9]\n",
      "Frequencies in training dataset:  [54 52 59 52 61 58 73 62 60 69]\n",
      "Labels in test set:  [0 1 2 3 4 5 6 7 8 9]\n",
      "Frequencies in test set:  [54 52 59 52 61 58 73 62 60 69]\n"
     ]
    }
   ],
   "source": [
    "#random permute the data and split into training and test taking the first 600\n",
    "#data samples as training and 4000 as test set\n",
    "permutation = np.random.permutation(X.shape[0])\n",
    "\n",
    "X = X[permutation]\n",
    "y = y[permutation]\n",
    "\n",
    "m_training = 600\n",
    "m_test = 4000\n",
    "\n",
    "X_train, X_test = X[:m_training], X[m_training:m_training+m_test]\n",
    "y_train, y_test = y[:m_training], y[m_training:m_training+m_test]\n",
    "\n",
    "labels, freqs = np.unique(y_train, return_counts=True)\n",
    "print(\"Labels in training dataset: \", labels)\n",
    "print(\"Frequencies in training dataset: \", freqs)\n",
    "\n",
    "labelsT, freqsT = np.unique(y_test, return_counts=True)\n",
    "print(\"Labels in test set: \", labels)\n",
    "print(\"Frequencies in test set: \", freqs)\n"
   ]
  },
  {
   "cell_type": "code",
   "execution_count": 6,
   "metadata": {},
   "outputs": [],
   "source": [
    "#function for plotting a image and printing the corresponding label\n",
    "def plot_input(X_matrix, labels, index):\n",
    "    print(\"INPUT:\")\n",
    "    plt.imshow(\n",
    "        X_matrix[index].reshape(28,28),\n",
    "        cmap          = plt.cm.gray_r,\n",
    "        interpolation = \"nearest\"\n",
    "    )\n",
    "    plt.show()\n",
    "    print(\"LABEL: %i\"%labels[index])\n",
    "    return"
   ]
  },
  {
   "cell_type": "code",
   "execution_count": 7,
   "metadata": {},
   "outputs": [
    {
     "name": "stdout",
     "output_type": "stream",
     "text": [
      "INPUT:\n"
     ]
    },
    {
     "data": {
      "image/png": "[encoded data removed]",
      "text/plain": [
       "<Figure size 432x288 with 1 Axes>"
      ]
     },
     "metadata": {
      "needs_background": "light"
     },
     "output_type": "display_data"
    },
    {
     "name": "stdout",
     "output_type": "stream",
     "text": [
      "LABEL: 3\n",
      "INPUT:\n"
     ]
    },
    {
     "data": {
      "image/png": "[encoded data removed]",
      "text/plain": [
       "<Figure size 432x288 with 1 Axes>"
      ]
     },
     "metadata": {
      "needs_background": "light"
     },
     "output_type": "display_data"
    },
    {
     "name": "stdout",
     "output_type": "stream",
     "text": [
      "LABEL: 9\n",
      "INPUT:\n"
     ]
    },
    {
     "data": {
      "image/png": "[encoded data removed]",
      "text/plain": [
       "<Figure size 432x288 with 1 Axes>"
      ]
     },
     "metadata": {
      "needs_background": "light"
     },
     "output_type": "display_data"
    },
    {
     "name": "stdout",
     "output_type": "stream",
     "text": [
      "LABEL: 0\n"
     ]
    }
   ],
   "source": [
    "#let's try the plotting function\n",
    "plot_input(X_train,y_train,10)\n",
    "plot_input(X_test,y_test,100)\n",
    "plot_input(X_test,y_test,1000)"
   ]
  },
  {
   "cell_type": "markdown",
   "metadata": {},
   "source": [
    "### TO DO 1\n",
    "\n",
    "Now use a feed-forward Neural Network for prediction. Use the multi-layer perceptron classifier, with the following parameters: max_iter=250, alpha=1e-4, solver='sgd', tol=1e-4, learning_rate_init=.1, random_state=ID (this last parameter ensures the run is the same even if you run it more than once). The alpha parameter is the regularization term.\n",
    "\n",
    "Then, using the default activation function, pick four or five architectures to consider, with different numbers of hidden layers and different sizes. It is not necessary to create huge neural networks, you can limit to 3 layers and, for each layer, its maximum size can be of 50. Evaluate the architectures you chose using GridSearchCV with cv=5.\n",
    "\n",
    "You can reduce the number of iterations if the running time is too long on your computer.\n"
   ]
  },
  {
   "cell_type": "code",
   "execution_count": 8,
   "metadata": {},
   "outputs": [
    {
     "name": "stdout",
     "output_type": "stream",
     "text": [
      "RESULTS FOR NN\n",
      "\n",
      "Best parameters set found: {'hidden_layer_sizes': (20,)}\n",
      "Score with best parameters: 0.745\n",
      "\n",
      "All scores on the grid: \n",
      "                                  params  split0_test_score  split1_test_score  \\\n",
      "0         {'hidden_layer_sizes': (10,)}           0.666667           0.716667   \n",
      "1         {'hidden_layer_sizes': (20,)}           0.741667           0.791667   \n",
      "2         {'hidden_layer_sizes': (30,)}           0.741667           0.800000   \n",
      "3      {'hidden_layer_sizes': (20, 20)}           0.750000           0.700000   \n",
      "4  {'hidden_layer_sizes': (30, 30, 20)}           0.683333           0.708333   \n",
      "\n",
      "   split2_test_score  split3_test_score  split4_test_score  mean_test_score  \\\n",
      "0           0.708333           0.741667           0.733333         0.713333   \n",
      "1           0.725000           0.783333           0.683333         0.745000   \n",
      "2           0.708333           0.741667           0.650000         0.728333   \n",
      "3           0.716667           0.783333           0.458333         0.681667   \n",
      "4           0.650000           0.608333           0.175000         0.565000   \n",
      "\n",
      "   rank_test_score  \n",
      "0                3  \n",
      "1                1  \n",
      "2                2  \n",
      "3                4  \n",
      "4                5  \n",
      "\n",
      "\n"
     ]
    }
   ],
   "source": [
    "# these are sample values but feel free to change them as you like, try to experiment with different sizes!!\n",
    "parameters = {'hidden_layer_sizes': [(10,), (20,), (30,), (20,20,), (30,30,20) ]} \n",
    "##suggested layer\n",
    "##kernal layers\n",
    "\n",
    "mlp = MLPClassifier(max_iter=250, alpha=1e-4, solver='sgd',\n",
    "                    tol=1e-4, random_state=ID,\n",
    "                    learning_rate_init=.1) \n",
    "\n",
    "##max_iter and tol controls when to stop of iteration\n",
    "##random state to use to get the same result every time you run \n",
    "\n",
    "#ADD YOUR CODE\n",
    "grid = GridSearchCV(mlp, parameters, n_jobs=-1, cv=5) #check n_jobs=-1\n",
    "grid.fit(X_train,y_train)\n",
    "result_df = pd.DataFrame(grid.cv_results_)\n",
    "#print(result_df)\n",
    "\n",
    "\n",
    "print ('RESULTS FOR NN\\n')\n",
    "\n",
    "print(\"Best parameters set found:\", grid.best_params_ ) #ADD YOUR CODE\n",
    "\n",
    "print(\"Score with best parameters:\", \"{0:0.3f}\".format(grid.best_score_)) #ADD YOUR CODE\n",
    "\n",
    "print(\"\\nAll scores on the grid: \\n\", result_df[['params','split0_test_score','split1_test_score','split2_test_score','split3_test_score','split4_test_score','mean_test_score','rank_test_score']]) # ADD YOUR CODE\n",
    "print(\"\\n\") \n",
    "\n",
    "\n",
    "\n",
    "##score --> accuracy number of correct classifier  \n",
    "##error = 1-score = 1-accuracy \n",
    "\n"
   ]
  },
  {
   "cell_type": "markdown",
   "metadata": {},
   "source": [
    "### TO DO 2\n",
    "\n",
    "Now try also different batch sizes, while keeping the best NN architecture you have found above. Remember that the batch size was previously set to the default value, i.e., min(200, n_samples). \n",
    "Recall that a batch size of 1 corresponds to baseline SGD, while using all the 480 training samples (there are 600 samples but in cross validation with 5 folders we use 1/5 of them for validation at each round) corresponds to standard GD and using a different mini-batch size lies in the middle between the two extreme cases."
   ]
  },
  {
   "cell_type": "code",
   "execution_count": 9,
   "metadata": {
    "scrolled": true
   },
   "outputs": [
    {
     "name": "stdout",
     "output_type": "stream",
     "text": [
      "   mean_fit_time  std_fit_time  mean_score_time  std_score_time  \\\n",
      "0      40.767067     12.496317         0.002608        0.002054   \n",
      "1       3.373017      1.070924         0.004776        0.003334   \n",
      "2       1.930371      0.594963         0.002563        0.000344   \n",
      "\n",
      "  param_batch_size               params  split0_test_score  split1_test_score  \\\n",
      "0                1    {'batch_size': 1}           0.108333           0.091667   \n",
      "1               32   {'batch_size': 32}           0.725000           0.758333   \n",
      "2              480  {'batch_size': 480}           0.716667           0.808333   \n",
      "\n",
      "   split2_test_score  split3_test_score  split4_test_score  mean_test_score  \\\n",
      "0           0.091667           0.166667           0.066667         0.105000   \n",
      "1           0.750000           0.741667           0.658333         0.726667   \n",
      "2           0.750000           0.766667           0.675000         0.743333   \n",
      "\n",
      "   std_test_score  rank_test_score  \n",
      "0        0.033582                3  \n",
      "1        0.035901                2  \n",
      "2        0.045154                1  \n",
      "\n",
      "RESULTS FOR NN\n",
      "\n",
      "Best parameters set found: {'batch_size': 480}\n",
      "Score with best parameters: 0.743\n",
      "\n",
      "All scores on the grid:\n",
      "                 params  split0_test_score  split1_test_score  \\\n",
      "0    {'batch_size': 1}           0.108333           0.091667   \n",
      "1   {'batch_size': 32}           0.725000           0.758333   \n",
      "2  {'batch_size': 480}           0.716667           0.808333   \n",
      "\n",
      "   split2_test_score  split3_test_score  split4_test_score  mean_test_score  \\\n",
      "0           0.091667           0.166667           0.066667         0.105000   \n",
      "1           0.750000           0.741667           0.658333         0.726667   \n",
      "2           0.750000           0.766667           0.675000         0.743333   \n",
      "\n",
      "   rank_test_score  \n",
      "0                3  \n",
      "1                2  \n",
      "2                1  \n",
      "\n",
      "\n"
     ]
    }
   ],
   "source": [
    "# these are sample values corresponding to baseline SGD, a reasonable mini-batch size and standard GD\n",
    "# again feel free to change them as you like, try to experiment with different batch sizes!!\n",
    "parameters = {'batch_size': [1, 32, 480]}\n",
    "\n",
    "# need to specify that you would like to use the standard k-fold split otherwise sklearn create splits of different sizes\n",
    "kf = sklearn.model_selection.KFold(n_splits=5)\n",
    "\n",
    "#ADD YOUR CODE - ##keeping the best NN architecture you have found above\n",
    "mlp_batch = MLPClassifier(hidden_layer_sizes=(20,), max_iter=250, alpha=1e-4, solver='sgd',\n",
    "                    tol=1e-4, random_state=ID,\n",
    "                    learning_rate_init=.1) \n",
    "\n",
    "grid_batch= GridSearchCV(mlp_batch, param_grid=parameters, n_jobs=-1, cv=kf)\n",
    "# recall to use cv=kf to use the k-fold subdivision seen in the lectures\n",
    "\n",
    "grid_batch.fit(X_train,y_train)\n",
    "result_batch_df = pd.DataFrame(grid_batch.cv_results_)\n",
    "print(result_batch_df)\n",
    "\n",
    "#ADD YOUR CODE\n",
    "\n",
    "print ('\\nRESULTS FOR NN\\n')\n",
    "\n",
    "print(\"Best parameters set found:\", grid_batch.best_params_)#ADD YOUR CODE\n",
    "\n",
    "print(\"Score with best parameters:\", \"{0:0.3f}\".format(grid_batch.best_score_)) #ADD YOUR CODE\n",
    "\n",
    "print(\"\\nAll scores on the grid:\\n\", result_batch_df[['params','split0_test_score','split1_test_score','split2_test_score','split3_test_score','split4_test_score','mean_test_score','rank_test_score']]) # ADD YOUR CODE\n",
    "print(\"\\n\") \n",
    "\n"
   ]
  },
  {
   "cell_type": "markdown",
   "metadata": {},
   "source": [
    "### QUESTION 1\n",
    "\n",
    "What do you observe for different architectures and batch sizes? How do the number of layers and their sizes affect the performances? What do you observe for different batch sizes, in particular what happens to the training convergence for different batch sizes (notice that the algorithm could not converge for some batch sizes)?"
   ]
  },
  {
   "cell_type": "markdown",
   "metadata": {},
   "source": [
    "## [ANSWER TO QUESTION 1]\n",
    "\n",
    "Running the algorithm for different architectures and batch sizes we observe different results in the training accuracy. The best results for different number of layers and size is given by “hidden_layer_sizes':(20,)” with a score of 0.745. Between the different architectures tried, the best ones are those with just one hidden layer : \n",
    "\n",
    "<br>\n",
    "-{'hidden_layer_sizes': (10,)} ranked as 3   <br>    \n",
    "-{'hidden_layer_sizes': (30,)} ranked as 2 <br>\n",
    "-{'hidden_layer_sizes': (20, 20)} ranked as 4 <br>\n",
    "-{'hidden_layer_sizes': (30, 30, 20)} ranked as 5 <br>\n",
    "<br>\n",
    "it’s not needed for this problem a too complicated architecture as (20, 20) or (20,30,20). <br>\n",
    "As regards the different batch sizes, between the baseline SGD, the mini-batch size and the standard SG the one that works better is the last one, corresponding to the best parameter found of {'batch_size': 480} with a score equal to 0.743. In the other two cases we get: <br>\n",
    "\n",
    "-{'batch_size': 32}: score=0.726, ranked as 2 <br>\n",
    "-{'batch_size': 1}: score=0.10, ranked as 3 <br>\n",
    "\n",
    "so the worst performing one, with a really low score, is the baseline SGD. For different batch sizes the training convergence can change: with a smaller batch size (as 1) each iteration is faster, since the gradient can be computed from just one single sample, but the trajectory is less stable, and in our case take more time to converge with respect to a larger batch size (as 480), which has globally a more stable trajectory of convergence. (No warning of convergence problem).\n",
    "\n",
    "\n"
   ]
  },
  {
   "cell_type": "markdown",
   "metadata": {},
   "source": [
    "### TODO 3:\n",
    "\n",
    "Plot the train and test accuracies as a function of the number of learnable parameters in your neural network. Print also the computation time for the various configurations you try (the code for getting the computation time is already provided). You can use 300 iterations (if you get a warning on convergence not reached it is not an issue for this lab)"
   ]
  },
  {
   "cell_type": "code",
   "execution_count": 10,
   "metadata": {},
   "outputs": [
    {
     "name": "stdout",
     "output_type": "stream",
     "text": [
      "(10,)\n",
      "Training MLP of size (10,) ...\n",
      "Done, training time: 0.72 sec\n",
      "\n",
      "(20,)\n",
      "Training MLP of size (20,) ...\n",
      "Done, training time: 0.62 sec\n",
      "\n",
      "(30,)\n",
      "Training MLP of size (30,) ...\n",
      "Done, training time: 1.32 sec\n",
      "\n",
      "(30, 20)\n",
      "Training MLP of size (30, 20) ...\n",
      "Done, training time: 0.40 sec\n",
      "\n",
      "(30, 30, 20)\n",
      "Training MLP of size (30, 30, 20) ...\n",
      "Done, training time: 0.47 sec\n",
      "\n"
     ]
    },
    {
     "data": {
      "image/png": "[encoded data removed]",
      "text/plain": [
       "<Figure size 1080x360 with 2 Axes>"
      ]
     },
     "metadata": {
      "needs_background": "light"
     },
     "output_type": "display_data"
    }
   ],
   "source": [
    "import time\n",
    "from functools import reduce\n",
    "\n",
    "# Function to compute the number of learnable parameters of a mlp given the size of its hidden layers\n",
    "def param_count(hl_size):\n",
    "    tot = 0\n",
    "    input_size, output_size = X_train.shape[1], len(labels)\n",
    "    tot += (input_size+1)*hl_size[0]\n",
    "    for i in range(1,len(hl_size)):\n",
    "        tot += (hl_size[i-1]+1)*hl_size[i]\n",
    "    tot += (hl_size[-1]+1)*output_size\n",
    "    return tot\n",
    "\n",
    "hl_sizes = [(10,), (20,), (30,), (30,20,), (30,30,20)]\n",
    "hl_labels = [param_count(t) for t in hl_sizes]\n",
    "\n",
    "ti = time.time()\n",
    "train_acc_list, test_acc_list = [], []\n",
    "\n",
    "for hl_size in hl_sizes:\n",
    "    print(hl_size)\n",
    "    print('Training MLP of size {} ...'.format(hl_size))\n",
    "    \n",
    "    #mlp=\n",
    "    mlp = MLPClassifier(hidden_layer_sizes=hl_size, max_iter=300, alpha=1e-4, solver='sgd',  #now 300 as ma_iter\n",
    "                    tol=1e-4, random_state=ID,\n",
    "                    learning_rate_init=.1) \n",
    "\n",
    "    mlp.fit(X_train,y_train) \n",
    "        \n",
    "    train_acc_list.append(mlp.score(X_train, y_train))\n",
    "    test_acc_list.append(mlp.score(X_test, y_test))\n",
    "    print('Done, training time: {:.2f} sec\\n'.format(time.time()-ti))\n",
    "    ti = time.time()\n",
    "\n",
    "fig, ax = plt.subplots(1,2, figsize=(15,5))\n",
    "\n",
    "\n",
    "ax[0].plot(train_acc_list)\n",
    "ax[0].set_xlabel('Number of learnable params')\n",
    "ax[0].set_title('Train accuracy')\n",
    "ax[0].set_xticks(np.arange(0,len(hl_labels)))\n",
    "ax[0].set_xticklabels(hl_labels)\n",
    "ax[0].grid(True)\n",
    "\n",
    "ax[1].plot(test_acc_list)\n",
    "ax[1].set_xlabel('Number of learnable params')\n",
    "ax[1].set_title('Test accuracy')\n",
    "ax[1].set_xticks(np.arange(0,len(hl_labels)))\n",
    "ax[1].set_xticklabels(hl_labels)\n",
    "ax[1].grid(True)\n"
   ]
  },
  {
   "cell_type": "markdown",
   "metadata": {},
   "source": [
    "## Question 2:\n",
    "\n",
    "Comment about the training and test accuracies referring to the discussion on underfitting and overfitting we did in the course\n"
   ]
  },
  {
   "cell_type": "markdown",
   "metadata": {},
   "source": [
    "## [ANSWER TO QUESTION 2]\n",
    "\n",
    "The two plots represent the train and test accuracies as a function of the number of learnable parameters in your neural network: in both cases the accuracy increases with a larger number of learnable parameter but after a certain number it decreases. This trend can be connected to the problem of underfitting and overfitting. \n",
    "With a smaller number of learnable parameters we are in the case of underfitting: both train and test accuracy are low, we are taking into account a overly too simplistic model. Increasing the number of learnable parameters, (eg 23860), we obtain a higher training and test accuracy, being therefore in an optimal case. An even larger number of learnable parameters may instead leads to overfitting, this usually means that the model knows the training data way too well but will perform poorly on the test set, not being able to generalize. In our case however both the train accuracy and test accuracy are low, so we can suppose an underfitting situation again.  \n",
    "\n",
    "\n",
    "\n"
   ]
  },
  {
   "cell_type": "markdown",
   "metadata": {},
   "source": [
    "### TO DO 4\n",
    "\n",
    "Now try also to use different learning rates, while keeping the best NN architecture and batch size you have found above. Plot the learning curves (i.e., the variation of the loss over the steps, you can get it from the loss_curve_ object of sklearn) for the different values of the learning rate. Try to run each training for 600 iterations. "
   ]
  },
  {
   "cell_type": "code",
   "execution_count": 11,
   "metadata": {
    "scrolled": true
   },
   "outputs": [
    {
     "name": "stdout",
     "output_type": "stream",
     "text": [
      "\n",
      "RESULTS FOR NN\n",
      "\n",
      "Best parameters set found: {'learning_rate_init': 0.01}\n",
      "Score with best parameters: 0.748\n"
     ]
    },
    {
     "name": "stderr",
     "output_type": "stream",
     "text": [
      "/home/sabrina/anaconda3/lib/python3.8/site-packages/sklearn/neural_network/_multilayer_perceptron.py:582: ConvergenceWarning: Stochastic Optimizer: Maximum iterations (600) reached and the optimization hasn't converged yet.\n",
      "  warnings.warn(\n"
     ]
    }
   ],
   "source": [
    "import matplotlib.pyplot as plt\n",
    "import operator\n",
    "\n",
    "#lr_list = [0.001, 0.01, 0.1]\n",
    "lr_list = [10**exp for exp in range(-3,0)]\n",
    "scores = [] #{} changed as []\n",
    "\n",
    "#ADD YOUR CODE\n",
    "\n",
    "##best NN architecture (20,) and batch size {'batch_size': 480}\n",
    "parameters = {'learning_rate_init': lr_list}\n",
    "\n",
    "mlp= MLPClassifier(hidden_layer_sizes=(20,),batch_size=480, max_iter=600, alpha=1e-4, solver='sgd',\n",
    "                    tol=1e-4, random_state=ID)\n",
    "                    #learning_rate_init=lr_list)  #lr_list as new learning rate \n",
    "\n",
    "grid_lr = GridSearchCV(mlp, parameters, n_jobs=-1, cv=5) #check n_jobs=-1\n",
    "grid_lr.fit(X_train,y_train)\n",
    "result_lr_df = pd.DataFrame(grid_lr.cv_results_)\n",
    "\n",
    "#print(result_lr_df)\n",
    "#scores.append(grid_lr.best_score_)  \n",
    "\n",
    "  \n",
    "print ('\\nRESULTS FOR NN\\n')\n",
    "\n",
    "print(\"Best parameters set found:\",grid_lr.best_params_ ) #ADD YOUR CODE\n",
    "\n",
    "print(\"Score with best parameters:\", \"{0:0.3f}\".format(grid_lr.best_score_)) #ADD YOUR CODE\n"
   ]
  },
  {
   "cell_type": "code",
   "execution_count": 12,
   "metadata": {},
   "outputs": [
    {
     "name": "stderr",
     "output_type": "stream",
     "text": [
      "/home/sabrina/anaconda3/lib/python3.8/site-packages/sklearn/neural_network/_multilayer_perceptron.py:582: ConvergenceWarning: Stochastic Optimizer: Maximum iterations (600) reached and the optimization hasn't converged yet.\n",
      "  warnings.warn(\n",
      "/home/sabrina/anaconda3/lib/python3.8/site-packages/sklearn/neural_network/_multilayer_perceptron.py:582: ConvergenceWarning: Stochastic Optimizer: Maximum iterations (600) reached and the optimization hasn't converged yet.\n",
      "  warnings.warn(\n"
     ]
    },
    {
     "data": {
      "image/png": "[encoded data removed]",
      "text/plain": [
       "<Figure size 432x288 with 1 Axes>"
      ]
     },
     "metadata": {
      "needs_background": "light"
     },
     "output_type": "display_data"
    }
   ],
   "source": [
    "##Plot the learning curves (i.e., the variation of the loss over the steps,\n",
    "#you can get it from the loss_curve_ object of sklearn) for the different values of the learning rate\n",
    " \n",
    "for lr in lr_list:\n",
    "    mlp= MLPClassifier(hidden_layer_sizes=(20,),batch_size=480, max_iter=600, alpha=1e-4, solver='sgd',\n",
    "                    tol=1e-4, random_state=ID,\n",
    "                    learning_rate_init=lr)\n",
    "    mlp.fit(X_train,y_train)\n",
    "    plt.plot(mlp.loss_curve_, label=\"lr=\"+str(lr))\n",
    "    \n",
    "plt.legend()\n",
    "plt.xlabel(\"Number of tteration\")\n",
    "plt.ylabel(\"Loss\")\n",
    "plt.show()"
   ]
  },
  {
   "cell_type": "markdown",
   "metadata": {},
   "source": [
    "### QUESTION 3\n",
    "\n",
    "Comment about the learning curves (i.e. the variation of the loss over the steps). How does the curve changes for different learning rates in terms of stability and speed of convergence ?\n"
   ]
  },
  {
   "cell_type": "markdown",
   "metadata": {},
   "source": [
    "## [ANSWER TO QUESTION 3]\n",
    "\n",
    "The plot shows us the learning curve for three different learning rates: with a lower learning rate (lr=0.001) the curve is more stable but decreases very slowly, if instead we use higher values of the learning rates the curve will converge faster but it will also become more unstable as we can clearly see for lr=0.1 (green curve)\n"
   ]
  },
  {
   "cell_type": "markdown",
   "metadata": {},
   "source": [
    "### TO DO 5\n",
    "\n",
    "Now get training and test error for a NN with best parameters (architecture, batch size and learning rate) from above. Plot the learning curve also for this case."
   ]
  },
  {
   "cell_type": "code",
   "execution_count": 13,
   "metadata": {
    "scrolled": true
   },
   "outputs": [
    {
     "name": "stdout",
     "output_type": "stream",
     "text": [
      "\n",
      "RESULTS FOR BEST NN\n",
      "\n",
      "Best NN training error: 0.000000\n",
      "Best NN test error: 0.222000\n"
     ]
    },
    {
     "name": "stderr",
     "output_type": "stream",
     "text": [
      "/home/sabrina/anaconda3/lib/python3.8/site-packages/sklearn/neural_network/_multilayer_perceptron.py:582: ConvergenceWarning: Stochastic Optimizer: Maximum iterations (600) reached and the optimization hasn't converged yet.\n",
      "  warnings.warn(\n"
     ]
    },
    {
     "data": {
      "image/png": "[encoded data removed]",
      "text/plain": [
       "<Figure size 432x288 with 1 Axes>"
      ]
     },
     "metadata": {
      "needs_background": "light"
     },
     "output_type": "display_data"
    }
   ],
   "source": [
    "#get training and test error for the best NN model from CV\n",
    "\n",
    "##best NN architecture (20,),  batch size {'batch_size': 480}, and learning rate {'learning_rate_init': 0.01}\n",
    "mlp= MLPClassifier(hidden_layer_sizes=(20,),batch_size=480, max_iter=600, alpha=1e-4, solver='sgd',\n",
    "                    tol=1e-4, random_state=ID, \n",
    "                    learning_rate_init=0.01) \n",
    "\n",
    "#ADD YOUR CODE\n",
    "mlp.fit(X_train,y_train)\n",
    "\n",
    "train_score= mlp.score(X_train , y_train) \n",
    "training_error=1-train_score\n",
    "\n",
    "test_score=mlp.score(X_test , y_test)\n",
    "test_error=1-test_score\n",
    "\n",
    "\n",
    "print ('\\nRESULTS FOR BEST NN\\n')\n",
    "\n",
    "print (\"Best NN training error: %f\" % training_error)\n",
    "print (\"Best NN test error: %f\" % test_error)\n",
    "\n",
    "#ADD YOUR CODE FOR PLOTTING\n",
    "plt.plot(mlp.loss_curve_)\n",
    "plt.xlabel(\"Number of tteration\")\n",
    "plt.ylabel(\"Loss\")\n",
    "plt.show()"
   ]
  },
  {
   "cell_type": "markdown",
   "metadata": {},
   "source": [
    "##### More data \n",
    "Now let's do the same but using 4000 (or less if it takes too long on your machine) data points for training. Use the same NN architecture as before, but you can try more if you like and have a powerful computer!!"
   ]
  },
  {
   "cell_type": "code",
   "execution_count": 14,
   "metadata": {},
   "outputs": [
    {
     "name": "stdout",
     "output_type": "stream",
     "text": [
      "Labels in training dataset:  [0 1 2 3 4 5 6 7 8 9]\n",
      "Frequencies in training dataset:  [380 397 418 396 409 380 396 397 427 400]\n"
     ]
    }
   ],
   "source": [
    "X = X[permutation]\n",
    "y = y[permutation]\n",
    "\n",
    "m_training = 4000\n",
    "\n",
    "X_train, X_test = X[:m_training], X[m_training:]\n",
    "y_train, y_test = y[:m_training], y[m_training:]\n",
    "\n",
    "labels, freqs = np.unique(y_train, return_counts=True)\n",
    "print(\"Labels in training dataset: \", labels)\n",
    "print(\"Frequencies in training dataset: \", freqs)"
   ]
  },
  {
   "cell_type": "markdown",
   "metadata": {},
   "source": [
    "### TO DO 6\n",
    "\n",
    "Now train the NNs with the added data points using the optimum parameters found above. Eventually, feel free to try different architectures if you like. We suggest that you use 'verbose=True' so have an idea of how long it takes to run 1 iteration (eventually reduce also the number of iterations to 50)."
   ]
  },
  {
   "cell_type": "code",
   "execution_count": 15,
   "metadata": {},
   "outputs": [
    {
     "name": "stderr",
     "output_type": "stream",
     "text": [
      "/home/sabrina/anaconda3/lib/python3.8/site-packages/sklearn/neural_network/_multilayer_perceptron.py:582: ConvergenceWarning: Stochastic Optimizer: Maximum iterations (300) reached and the optimization hasn't converged yet.\n",
      "  warnings.warn(\n"
     ]
    },
    {
     "name": "stdout",
     "output_type": "stream",
     "text": [
      "\n",
      "\n",
      "\n",
      "RESULTS FOR NN\n",
      "\n",
      "NN training error: 0.050500\n",
      "NN test error: 0.172000\n"
     ]
    }
   ],
   "source": [
    "# use best architecture and params from before\n",
    "\n",
    "##best NN architecture (20,),  batch size {'batch_size': 480}, and learning rate {'learning_rate_init': 0.01}\n",
    "\n",
    "#ADD YOUR CODE\n",
    "mlp_large= MLPClassifier(hidden_layer_sizes=(20,),batch_size=480, max_iter=300, alpha=1e-4, solver='sgd',\n",
    "                    tol=1e-4, random_state=ID,  #max_iter reduced for lower computational time \n",
    "                    learning_rate_init=0.01) #verbose=True removed for simpler visualization of the result \n",
    "\n",
    "\n",
    "#get training and test error for the NN\n",
    "mlp_large.fit(X_train,y_train)\n",
    "mlp_large.predict(X_test)\n",
    "\n",
    "train_score= mlp_large.score(X_train , y_train) \n",
    "training_error=1-train_score\n",
    "\n",
    "test_score=mlp_large.score(X_test , y_test)\n",
    "test_error=1-test_score\n",
    "#ADD YOUR CODE\n",
    "print(\"\\n\")\n",
    "\n",
    "print ('\\nRESULTS FOR NN\\n')\n",
    "print (\"NN training error: %f\" % training_error)\n",
    "print (\"NN test error: %f\" % test_error)\n"
   ]
  },
  {
   "cell_type": "markdown",
   "metadata": {},
   "source": [
    "## QUESTION 4\n",
    "Compare the train and test error you got with a large number of samples with the best one you obtained with only 600 data points. Comment about the results you obtained."
   ]
  },
  {
   "cell_type": "markdown",
   "metadata": {},
   "source": [
    "#### [ANSWER TO QUESTION 4]\n",
    "\n",
    "The results in the two different cases are:\n",
    "\n",
    "-Best NN with m=600 <br>\n",
    "Best NN training error: 0.02 <br>\n",
    "Best NN test error: 0.22 <br>\n",
    "\n",
    "-NN with m=4000 <br>\n",
    "NN training error: 0.05 <br>\n",
    "NN test error: 0.17 <br>\n",
    "\n",
    "\n",
    "\n",
    "<br>\n",
    "From this results we can clearly see that increasing the number of training sample leads to a smaller error: in the first case with m=600 the test error is equal to 22% while with m=4000 it gets smaller and it's equal to 17%."
   ]
  },
  {
   "cell_type": "markdown",
   "metadata": {},
   "source": [
    "### TO DO 7\n",
    "\n",
    "Plot an example that was missclassified by NN with m=600 training data points and it is now instead correctly classified by NN with m=4000 training data points."
   ]
  },
  {
   "cell_type": "code",
   "execution_count": 16,
   "metadata": {},
   "outputs": [
    {
     "name": "stdout",
     "output_type": "stream",
     "text": [
      "INPUT:\n"
     ]
    },
    {
     "data": {
      "image/png": "[encoded data removed]",
      "text/plain": [
       "<Figure size 432x288 with 1 Axes>"
      ]
     },
     "metadata": {
      "needs_background": "light"
     },
     "output_type": "display_data"
    },
    {
     "name": "stdout",
     "output_type": "stream",
     "text": [
      "LABEL: 5\n",
      "Index of the first missclassified item by NN with m=600 and correctly classified by NN with m=4000: 18\n",
      "Missclassified by NN with m=600 as label: 7\n"
     ]
    }
   ],
   "source": [
    "NN_prediction = mlp.predict(X_test)\n",
    "large_NN_prediction = mlp_large.predict(X_test)\n",
    "\n",
    "#ADD YOUR CODE\n",
    "#item misscl by NN m=600 and correctly class by NN m=4000\n",
    "for i in range(0,len(y_test)):\n",
    "    if y_test[i] != NN_prediction[i] and y_test[i] == large_NN_prediction[i]:  #risultati predicr\n",
    "        plot_input(X_test,y_test,i)\n",
    "        print(\"Index of the first missclassified item by NN with m=600 and correctly classified by NN with m=4000:\", i)\n",
    "        print(\"Missclassified by NN with m=600 as label:\", NN_prediction[i])\n",
    "        break\n",
    "    \n"
   ]
  },
  {
   "cell_type": "markdown",
   "metadata": {},
   "source": [
    "### TO DO 8\n",
    "\n",
    "Let's plot the weigths of the multi-layer perceptron classifier, for the best NN we get with 600 data points and with 4000 data points. The code is already provided, just fix variable names (e.g., replace mlp , mlp_large with your estimators) in order to have it working with your implementation\n",
    "\n"
   ]
  },
  {
   "cell_type": "code",
   "execution_count": 17,
   "metadata": {},
   "outputs": [
    {
     "name": "stdout",
     "output_type": "stream",
     "text": [
      "Weights with 600 data points:\n"
     ]
    },
    {
     "data": {
      "image/png": "[encoded data removed]",
      "text/plain": [
       "<Figure size 432x288 with 16 Axes>"
      ]
     },
     "metadata": {},
     "output_type": "display_data"
    },
    {
     "name": "stdout",
     "output_type": "stream",
     "text": [
      "Weights with 4000 data points:\n"
     ]
    },
    {
     "data": {
      "image/png": "[encoded data removed]",
      "text/plain": [
       "<Figure size 432x288 with 16 Axes>"
      ]
     },
     "metadata": {},
     "output_type": "display_data"
    }
   ],
   "source": [
    "print(\"Weights with 600 data points:\")\n",
    "\n",
    "fig, axes = plt.subplots(4, 4)\n",
    "vmin, vmax = mlp.coefs_[0].min(), mlp.coefs_[0].max()\n",
    "for coef, ax in zip(mlp.coefs_[0].T, axes.ravel()):\n",
    "    ax.matshow(coef.reshape(28, 28), cmap=plt.cm.gray, vmin=.5 * vmin,\n",
    "               vmax=.5 * vmax)\n",
    "    ax.set_xticks(())\n",
    "    ax.set_yticks(())\n",
    "\n",
    "plt.show()\n",
    "\n",
    "print(\"Weights with 4000 data points:\")\n",
    "\n",
    "fig, axes = plt.subplots(4, 4)\n",
    "vmin, vmax = mlp_large.coefs_[0].min(), mlp_large.coefs_[0].max()\n",
    "for coef, ax in zip(mlp.coefs_[0].T, axes.ravel()):\n",
    "    ax.matshow(coef.reshape(28, 28), cmap=plt.cm.gray, vmin=.5 * vmin,\n",
    "               vmax=.5 * vmax)\n",
    "    ax.set_xticks(())\n",
    "    ax.set_yticks(())\n",
    "plt.show()\n"
   ]
  },
  {
   "cell_type": "markdown",
   "metadata": {},
   "source": [
    "## QUESTION 5\n",
    "\n",
    "Describe what do you observe by looking at the weights."
   ]
  },
  {
   "cell_type": "markdown",
   "metadata": {},
   "source": [
    "##### [ANSWER TO QUESTION 5]\n",
    "\n",
    "Looking the plot of the internal weights both in the case with m=600 and m=4000 it’s very difficult to distinguish an object of our sample, even the shape it's hard to guess: the plot is dominated by noise, so we mainly observe only that."
   ]
  },
  {
   "cell_type": "markdown",
   "metadata": {},
   "source": [
    "### TO DO 9\n",
    "\n",
    "Take the best SVM model and its parameters, you found in the last notebook. Fit it on a few data points and compute its training and test scores. Then fit also a logistic regression model with C=1. "
   ]
  },
  {
   "cell_type": "code",
   "execution_count": 18,
   "metadata": {
    "scrolled": true
   },
   "outputs": [
    {
     "name": "stdout",
     "output_type": "stream",
     "text": [
      "RESULTS FOR SVM\n",
      "Training score SVM:\n",
      "0.0716\n",
      "Test score SVM:\n",
      "0.13280000000000003\n"
     ]
    }
   ],
   "source": [
    "m_training = 5000\n",
    "\n",
    "X_train, X_test = X[:m_training], X[m_training:2*m_training]\n",
    "y_train, y_test = y[:m_training], y[m_training:2*m_training]\n",
    "\n",
    "# use best parameters found in the SVM notebook, create SVM and perform fitting\n",
    "\n",
    "#ADD YOUR CODE\n",
    "svc_g = SVC(kernel='rbf')\n",
    "SVM = GridSearchCV(estimator=svc_g, param_grid={'C': [5], 'gamma': [0.005]}, cv=4) \n",
    "#The best SVM model taken is rbf with {'C': 5, 'gamma': 0.005} as best parameters\n",
    "\n",
    "SVM.fit(X_train,y_train)\n",
    "\n",
    "print ('RESULTS FOR SVM')\n",
    "\n",
    "#train\n",
    "SVM_train_score=SVM.best_estimator_.score(X_train , y_train)\n",
    "SVM_training_error =(1-SVM_train_score)\n",
    "\n",
    "print(\"Training score SVM:\")\n",
    "print(SVM_training_error)\n",
    "\n",
    "#test\n",
    "SVM_test_score=SVM.best_estimator_.score(X_test , y_test)\n",
    "SVM_test_error = (1-SVM_test_score) #ADD YOUR CODE\n",
    "print(\"Test score SVM:\")\n",
    "print(SVM_test_error)\n"
   ]
  },
  {
   "cell_type": "code",
   "execution_count": 19,
   "metadata": {},
   "outputs": [
    {
     "name": "stdout",
     "output_type": "stream",
     "text": [
      "\n",
      "RESULTS FOR LOGISTIC REGRESSION WITH REGULARIZATION\n",
      "Training error (reg): 0.043800\n",
      "Test error (reg): 0.172600\n"
     ]
    }
   ],
   "source": [
    "from sklearn import linear_model\n",
    "\n",
    "#regL2 = #ADD YOUR CODE\n",
    "\n",
    "# you can re-use your code from Lab 2\n",
    "\n",
    "#ADD YOUR CODE\n",
    "log_regC=linear_model.LogisticRegression(C=1,max_iter=800) \n",
    "\n",
    "#training set\n",
    "training_reg=log_regC.fit(X_train, y_train) #learn\n",
    "training_pred=log_regC.predict(X_train) #predict\n",
    "training_score=log_regC.score(X_train, y_train)\n",
    "training_error=1-training_score\n",
    "\n",
    "#test set\n",
    "#pred_test = log_regC.predict(X_test)\n",
    "test_score=log_regC.score(X_test,y_test)\n",
    "test_error=1-test_score\n",
    "\n",
    "print ('\\nRESULTS FOR LOGISTIC REGRESSION WITH REGULARIZATION')\n",
    "\n",
    "print (\"Training error (reg): %f\" % training_error)\n",
    "print (\"Test error (reg): %f\" % test_error)\n"
   ]
  },
  {
   "cell_type": "markdown",
   "metadata": {
    "collapsed": true
   },
   "source": [
    "## QUESTION 6\n",
    "Compare the results of Logistic Regression, SVM and NN. Which one achieve the best results? "
   ]
  },
  {
   "cell_type": "markdown",
   "metadata": {},
   "source": [
    "###### [ANSWER TO QUESTION 6]\n",
    "\n",
    "\n",
    "The results obtained of Logistic Regression, SVM and NN are:\n",
    "\n",
    "-NN with m=4000 <br>\n",
    "NN training error: 0.05 <br>\n",
    "NN test error: 0.17 <br>\n",
    "<br>\n",
    "\n",
    "-SVM <br> \n",
    "Training score:0.07 <br>\n",
    "Test score: 0.13 <br>\n",
    "<br>\n",
    "\n",
    "-Logistic Regression <br>\n",
    "Training error: 0.04 <br>\n",
    "Test error: 0.17 <br>\n",
    "\n",
    "<br>\n",
    "The best result it's obtaneid with the SVM model which yields a test error of 13%, the others two models have instead a test error of 17% for Neural Network and a test error of 17% for the Logistric Regression case, which comparable with the previous one.\n",
    "\n"
   ]
  },
  {
   "cell_type": "code",
   "execution_count": null,
   "metadata": {},
   "outputs": [],
   "source": []
  }
 ],
 "metadata": {
  "kernelspec": {
   "display_name": "Python 3",
   "language": "python",
   "name": "python3"
  },
  "language_info": {
   "codemirror_mode": {
    "name": "ipython",
    "version": 3
   },
   "file_extension": ".py",
   "mimetype": "text/x-python",
   "name": "python",
   "nbconvert_exporter": "python",
   "pygments_lexer": "ipython3",
   "version": "3.8.3"
  }
 },
 "nbformat": 4,
 "nbformat_minor": 2
}
